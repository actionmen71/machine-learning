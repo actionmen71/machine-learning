{
 "cells": [
  {
   "cell_type": "markdown",
   "id": "30f981aa",
   "metadata": {
    "papermill": {
     "duration": 0.009138,
     "end_time": "2024-12-04T04:00:35.031961",
     "exception": false,
     "start_time": "2024-12-04T04:00:35.022823",
     "status": "completed"
    },
    "tags": []
   },
   "source": [
    "**This notebook is an exercise in the [Data Visualization](https://www.kaggle.com/learn/data-visualization) course.  You can reference the tutorial at [this link](https://www.kaggle.com/alexisbcook/scatter-plots).**\n",
    "\n",
    "---\n"
   ]
  },
  {
   "cell_type": "markdown",
   "id": "55bfbf4d",
   "metadata": {
    "papermill": {
     "duration": 0.007317,
     "end_time": "2024-12-04T04:00:35.046667",
     "exception": false,
     "start_time": "2024-12-04T04:00:35.039350",
     "status": "completed"
    },
    "tags": []
   },
   "source": [
    "In this exercise, you will use your new knowledge to propose a solution to a real-world scenario.  To succeed, you will need to import data into Python, answer questions using the data, and generate **scatter plots** to understand patterns in the data.\n",
    "\n",
    "## Scenario\n",
    "\n",
    "You work for a major candy producer, and your goal is to write a report that your company can use to guide the design of its next product.  Soon after starting your research, you stumble across this [very interesting dataset](https://fivethirtyeight.com/features/the-ultimate-halloween-candy-power-ranking/) containing results from a fun survey to crowdsource favorite candies.\n",
    "\n",
    "## Setup\n",
    "\n",
    "Run the next cell to import and configure the Python libraries that you need to complete the exercise."
   ]
  },
  {
   "cell_type": "code",
   "execution_count": 1,
   "id": "d23ff7cb",
   "metadata": {
    "execution": {
     "iopub.execute_input": "2024-12-04T04:00:35.063628Z",
     "iopub.status.busy": "2024-12-04T04:00:35.063230Z",
     "iopub.status.idle": "2024-12-04T04:00:37.754296Z",
     "shell.execute_reply": "2024-12-04T04:00:37.752921Z"
    },
    "papermill": {
     "duration": 2.701937,
     "end_time": "2024-12-04T04:00:37.756705",
     "exception": false,
     "start_time": "2024-12-04T04:00:35.054768",
     "status": "completed"
    },
    "tags": []
   },
   "outputs": [
    {
     "name": "stdout",
     "output_type": "stream",
     "text": [
      "Setup Complete\n"
     ]
    }
   ],
   "source": [
    "import pandas as pd\n",
    "pd.plotting.register_matplotlib_converters()\n",
    "import matplotlib.pyplot as plt\n",
    "%matplotlib inline\n",
    "import seaborn as sns\n",
    "print(\"Setup Complete\")"
   ]
  },
  {
   "cell_type": "markdown",
   "id": "0918cd3f",
   "metadata": {
    "papermill": {
     "duration": 0.007276,
     "end_time": "2024-12-04T04:00:37.771606",
     "exception": false,
     "start_time": "2024-12-04T04:00:37.764330",
     "status": "completed"
    },
    "tags": []
   },
   "source": [
    "The questions below will give you feedback on your work. Run the following cell to set up our feedback system."
   ]
  },
  {
   "cell_type": "code",
   "execution_count": 2,
   "id": "8e1fca7e",
   "metadata": {
    "execution": {
     "iopub.execute_input": "2024-12-04T04:00:37.788127Z",
     "iopub.status.busy": "2024-12-04T04:00:37.787601Z",
     "iopub.status.idle": "2024-12-04T04:00:37.858533Z",
     "shell.execute_reply": "2024-12-04T04:00:37.857300Z"
    },
    "papermill": {
     "duration": 0.081668,
     "end_time": "2024-12-04T04:00:37.860872",
     "exception": false,
     "start_time": "2024-12-04T04:00:37.779204",
     "status": "completed"
    },
    "tags": []
   },
   "outputs": [
    {
     "name": "stdout",
     "output_type": "stream",
     "text": [
      "Setup Complete\n"
     ]
    }
   ],
   "source": [
    "# Set up code checking\n",
    "import os\n",
    "if not os.path.exists(\"../input/candy.csv\"):\n",
    "    os.symlink(\"../input/data-for-datavis/candy.csv\", \"../input/candy.csv\") \n",
    "from learntools.core import binder\n",
    "binder.bind(globals())\n",
    "from learntools.data_viz_to_coder.ex4 import *\n",
    "print(\"Setup Complete\")"
   ]
  },
  {
   "cell_type": "markdown",
   "id": "4def34b7",
   "metadata": {
    "papermill": {
     "duration": 0.006949,
     "end_time": "2024-12-04T04:00:37.875512",
     "exception": false,
     "start_time": "2024-12-04T04:00:37.868563",
     "status": "completed"
    },
    "tags": []
   },
   "source": [
    "## Step 1: Load the Data\n",
    "\n",
    "Read the candy data file into `candy_data`.  Use the `\"id\"` column to label the rows."
   ]
  },
  {
   "cell_type": "code",
   "execution_count": 3,
   "id": "167944ad",
   "metadata": {
    "execution": {
     "iopub.execute_input": "2024-12-04T04:00:37.891571Z",
     "iopub.status.busy": "2024-12-04T04:00:37.891207Z",
     "iopub.status.idle": "2024-12-04T04:00:37.905864Z",
     "shell.execute_reply": "2024-12-04T04:00:37.904719Z"
    },
    "papermill": {
     "duration": 0.025347,
     "end_time": "2024-12-04T04:00:37.908135",
     "exception": false,
     "start_time": "2024-12-04T04:00:37.882788",
     "status": "completed"
    },
    "tags": []
   },
   "outputs": [
    {
     "data": {
      "application/javascript": [
       "parent.postMessage({\"jupyterEvent\": \"custom.exercise_interaction\", \"data\": {\"outcomeType\": 1, \"valueTowardsCompletion\": 0.3333333333333333, \"interactionType\": 1, \"questionType\": 1, \"questionId\": \"1_LoadData\", \"learnToolsVersion\": \"0.3.4\", \"failureMessage\": \"\", \"exceptionClass\": \"\", \"trace\": \"\"}}, \"*\")"
      ],
      "text/plain": [
       "<IPython.core.display.Javascript object>"
      ]
     },
     "metadata": {},
     "output_type": "display_data"
    },
    {
     "data": {
      "text/markdown": [
       "<span style=\"color:#33cc33\">Correct</span>"
      ],
      "text/plain": [
       "Correct"
      ]
     },
     "metadata": {},
     "output_type": "display_data"
    }
   ],
   "source": [
    "# Path of the file to read\n",
    "candy_filepath = \"../input/candy.csv\"\n",
    "\n",
    "# Fill in the line below to read the file into a variable candy_data\n",
    "candy_data = pd.read_csv(candy_filepath, index_col ='id')\n",
    "\n",
    "# Run the line below with no changes to check that you've loaded the data correctly\n",
    "step_1.check()"
   ]
  },
  {
   "cell_type": "code",
   "execution_count": 4,
   "id": "ddabe060",
   "metadata": {
    "execution": {
     "iopub.execute_input": "2024-12-04T04:00:37.925851Z",
     "iopub.status.busy": "2024-12-04T04:00:37.925403Z",
     "iopub.status.idle": "2024-12-04T04:00:37.929951Z",
     "shell.execute_reply": "2024-12-04T04:00:37.928750Z"
    },
    "papermill": {
     "duration": 0.016181,
     "end_time": "2024-12-04T04:00:37.932343",
     "exception": false,
     "start_time": "2024-12-04T04:00:37.916162",
     "status": "completed"
    },
    "tags": []
   },
   "outputs": [],
   "source": [
    "# Lines below will give you a hint or solution code\n",
    "#step_1.hint()\n",
    "#step_1.solution()"
   ]
  },
  {
   "cell_type": "markdown",
   "id": "fd24cd2b",
   "metadata": {
    "papermill": {
     "duration": 0.008454,
     "end_time": "2024-12-04T04:00:37.948781",
     "exception": false,
     "start_time": "2024-12-04T04:00:37.940327",
     "status": "completed"
    },
    "tags": []
   },
   "source": [
    "## Step 2: Review the data\n",
    "\n",
    "Use a Python command to print the first five rows of the data."
   ]
  },
  {
   "cell_type": "code",
   "execution_count": 5,
   "id": "a82cef3b",
   "metadata": {
    "execution": {
     "iopub.execute_input": "2024-12-04T04:00:37.965649Z",
     "iopub.status.busy": "2024-12-04T04:00:37.965275Z",
     "iopub.status.idle": "2024-12-04T04:00:37.994464Z",
     "shell.execute_reply": "2024-12-04T04:00:37.993410Z"
    },
    "papermill": {
     "duration": 0.040289,
     "end_time": "2024-12-04T04:00:37.996848",
     "exception": false,
     "start_time": "2024-12-04T04:00:37.956559",
     "status": "completed"
    },
    "tags": []
   },
   "outputs": [
    {
     "data": {
      "text/html": [
       "<div>\n",
       "<style scoped>\n",
       "    .dataframe tbody tr th:only-of-type {\n",
       "        vertical-align: middle;\n",
       "    }\n",
       "\n",
       "    .dataframe tbody tr th {\n",
       "        vertical-align: top;\n",
       "    }\n",
       "\n",
       "    .dataframe thead th {\n",
       "        text-align: right;\n",
       "    }\n",
       "</style>\n",
       "<table border=\"1\" class=\"dataframe\">\n",
       "  <thead>\n",
       "    <tr style=\"text-align: right;\">\n",
       "      <th></th>\n",
       "      <th>competitorname</th>\n",
       "      <th>chocolate</th>\n",
       "      <th>fruity</th>\n",
       "      <th>caramel</th>\n",
       "      <th>peanutyalmondy</th>\n",
       "      <th>nougat</th>\n",
       "      <th>crispedricewafer</th>\n",
       "      <th>hard</th>\n",
       "      <th>bar</th>\n",
       "      <th>pluribus</th>\n",
       "      <th>sugarpercent</th>\n",
       "      <th>pricepercent</th>\n",
       "      <th>winpercent</th>\n",
       "    </tr>\n",
       "    <tr>\n",
       "      <th>id</th>\n",
       "      <th></th>\n",
       "      <th></th>\n",
       "      <th></th>\n",
       "      <th></th>\n",
       "      <th></th>\n",
       "      <th></th>\n",
       "      <th></th>\n",
       "      <th></th>\n",
       "      <th></th>\n",
       "      <th></th>\n",
       "      <th></th>\n",
       "      <th></th>\n",
       "      <th></th>\n",
       "    </tr>\n",
       "  </thead>\n",
       "  <tbody>\n",
       "    <tr>\n",
       "      <th>0</th>\n",
       "      <td>100 Grand</td>\n",
       "      <td>Yes</td>\n",
       "      <td>No</td>\n",
       "      <td>Yes</td>\n",
       "      <td>No</td>\n",
       "      <td>No</td>\n",
       "      <td>Yes</td>\n",
       "      <td>No</td>\n",
       "      <td>Yes</td>\n",
       "      <td>No</td>\n",
       "      <td>0.732</td>\n",
       "      <td>0.860</td>\n",
       "      <td>66.971725</td>\n",
       "    </tr>\n",
       "    <tr>\n",
       "      <th>1</th>\n",
       "      <td>3 Musketeers</td>\n",
       "      <td>Yes</td>\n",
       "      <td>No</td>\n",
       "      <td>No</td>\n",
       "      <td>No</td>\n",
       "      <td>Yes</td>\n",
       "      <td>No</td>\n",
       "      <td>No</td>\n",
       "      <td>Yes</td>\n",
       "      <td>No</td>\n",
       "      <td>0.604</td>\n",
       "      <td>0.511</td>\n",
       "      <td>67.602936</td>\n",
       "    </tr>\n",
       "    <tr>\n",
       "      <th>2</th>\n",
       "      <td>Air Heads</td>\n",
       "      <td>No</td>\n",
       "      <td>Yes</td>\n",
       "      <td>No</td>\n",
       "      <td>No</td>\n",
       "      <td>No</td>\n",
       "      <td>No</td>\n",
       "      <td>No</td>\n",
       "      <td>No</td>\n",
       "      <td>No</td>\n",
       "      <td>0.906</td>\n",
       "      <td>0.511</td>\n",
       "      <td>52.341465</td>\n",
       "    </tr>\n",
       "    <tr>\n",
       "      <th>3</th>\n",
       "      <td>Almond Joy</td>\n",
       "      <td>Yes</td>\n",
       "      <td>No</td>\n",
       "      <td>No</td>\n",
       "      <td>Yes</td>\n",
       "      <td>No</td>\n",
       "      <td>No</td>\n",
       "      <td>No</td>\n",
       "      <td>Yes</td>\n",
       "      <td>No</td>\n",
       "      <td>0.465</td>\n",
       "      <td>0.767</td>\n",
       "      <td>50.347546</td>\n",
       "    </tr>\n",
       "    <tr>\n",
       "      <th>4</th>\n",
       "      <td>Baby Ruth</td>\n",
       "      <td>Yes</td>\n",
       "      <td>No</td>\n",
       "      <td>Yes</td>\n",
       "      <td>Yes</td>\n",
       "      <td>Yes</td>\n",
       "      <td>No</td>\n",
       "      <td>No</td>\n",
       "      <td>Yes</td>\n",
       "      <td>No</td>\n",
       "      <td>0.604</td>\n",
       "      <td>0.767</td>\n",
       "      <td>56.914547</td>\n",
       "    </tr>\n",
       "    <tr>\n",
       "      <th>...</th>\n",
       "      <td>...</td>\n",
       "      <td>...</td>\n",
       "      <td>...</td>\n",
       "      <td>...</td>\n",
       "      <td>...</td>\n",
       "      <td>...</td>\n",
       "      <td>...</td>\n",
       "      <td>...</td>\n",
       "      <td>...</td>\n",
       "      <td>...</td>\n",
       "      <td>...</td>\n",
       "      <td>...</td>\n",
       "      <td>...</td>\n",
       "    </tr>\n",
       "    <tr>\n",
       "      <th>78</th>\n",
       "      <td>Twizzlers</td>\n",
       "      <td>No</td>\n",
       "      <td>Yes</td>\n",
       "      <td>No</td>\n",
       "      <td>No</td>\n",
       "      <td>No</td>\n",
       "      <td>No</td>\n",
       "      <td>No</td>\n",
       "      <td>No</td>\n",
       "      <td>No</td>\n",
       "      <td>0.220</td>\n",
       "      <td>0.116</td>\n",
       "      <td>45.466282</td>\n",
       "    </tr>\n",
       "    <tr>\n",
       "      <th>79</th>\n",
       "      <td>Warheads</td>\n",
       "      <td>No</td>\n",
       "      <td>Yes</td>\n",
       "      <td>No</td>\n",
       "      <td>No</td>\n",
       "      <td>No</td>\n",
       "      <td>No</td>\n",
       "      <td>Yes</td>\n",
       "      <td>No</td>\n",
       "      <td>No</td>\n",
       "      <td>0.093</td>\n",
       "      <td>0.116</td>\n",
       "      <td>39.011898</td>\n",
       "    </tr>\n",
       "    <tr>\n",
       "      <th>80</th>\n",
       "      <td>Welch's Fruit Snacks</td>\n",
       "      <td>No</td>\n",
       "      <td>Yes</td>\n",
       "      <td>No</td>\n",
       "      <td>No</td>\n",
       "      <td>No</td>\n",
       "      <td>No</td>\n",
       "      <td>No</td>\n",
       "      <td>No</td>\n",
       "      <td>Yes</td>\n",
       "      <td>0.313</td>\n",
       "      <td>0.313</td>\n",
       "      <td>44.375519</td>\n",
       "    </tr>\n",
       "    <tr>\n",
       "      <th>81</th>\n",
       "      <td>Werther's Original Caramel</td>\n",
       "      <td>No</td>\n",
       "      <td>No</td>\n",
       "      <td>Yes</td>\n",
       "      <td>No</td>\n",
       "      <td>No</td>\n",
       "      <td>No</td>\n",
       "      <td>Yes</td>\n",
       "      <td>No</td>\n",
       "      <td>No</td>\n",
       "      <td>0.186</td>\n",
       "      <td>0.267</td>\n",
       "      <td>41.904308</td>\n",
       "    </tr>\n",
       "    <tr>\n",
       "      <th>82</th>\n",
       "      <td>Whoppers</td>\n",
       "      <td>Yes</td>\n",
       "      <td>No</td>\n",
       "      <td>No</td>\n",
       "      <td>No</td>\n",
       "      <td>No</td>\n",
       "      <td>Yes</td>\n",
       "      <td>No</td>\n",
       "      <td>No</td>\n",
       "      <td>Yes</td>\n",
       "      <td>0.872</td>\n",
       "      <td>0.848</td>\n",
       "      <td>49.524113</td>\n",
       "    </tr>\n",
       "  </tbody>\n",
       "</table>\n",
       "<p>83 rows × 13 columns</p>\n",
       "</div>"
      ],
      "text/plain": [
       "                competitorname chocolate fruity caramel peanutyalmondy nougat  \\\n",
       "id                                                                              \n",
       "0                    100 Grand       Yes     No     Yes             No     No   \n",
       "1                 3 Musketeers       Yes     No      No             No    Yes   \n",
       "2                    Air Heads        No    Yes      No             No     No   \n",
       "3                   Almond Joy       Yes     No      No            Yes     No   \n",
       "4                    Baby Ruth       Yes     No     Yes            Yes    Yes   \n",
       "..                         ...       ...    ...     ...            ...    ...   \n",
       "78                   Twizzlers        No    Yes      No             No     No   \n",
       "79                    Warheads        No    Yes      No             No     No   \n",
       "80        Welch's Fruit Snacks        No    Yes      No             No     No   \n",
       "81  Werther's Original Caramel        No     No     Yes             No     No   \n",
       "82                    Whoppers       Yes     No      No             No     No   \n",
       "\n",
       "   crispedricewafer hard  bar pluribus  sugarpercent  pricepercent  winpercent  \n",
       "id                                                                              \n",
       "0               Yes   No  Yes       No         0.732         0.860   66.971725  \n",
       "1                No   No  Yes       No         0.604         0.511   67.602936  \n",
       "2                No   No   No       No         0.906         0.511   52.341465  \n",
       "3                No   No  Yes       No         0.465         0.767   50.347546  \n",
       "4                No   No  Yes       No         0.604         0.767   56.914547  \n",
       "..              ...  ...  ...      ...           ...           ...         ...  \n",
       "78               No   No   No       No         0.220         0.116   45.466282  \n",
       "79               No  Yes   No       No         0.093         0.116   39.011898  \n",
       "80               No   No   No      Yes         0.313         0.313   44.375519  \n",
       "81               No  Yes   No       No         0.186         0.267   41.904308  \n",
       "82              Yes   No   No      Yes         0.872         0.848   49.524113  \n",
       "\n",
       "[83 rows x 13 columns]"
      ]
     },
     "execution_count": 5,
     "metadata": {},
     "output_type": "execute_result"
    }
   ],
   "source": [
    "# Print the first five rows of the data\n",
    "candy_data # Your code here"
   ]
  },
  {
   "cell_type": "markdown",
   "id": "3a60f83e",
   "metadata": {
    "papermill": {
     "duration": 0.007492,
     "end_time": "2024-12-04T04:00:38.012495",
     "exception": false,
     "start_time": "2024-12-04T04:00:38.005003",
     "status": "completed"
    },
    "tags": []
   },
   "source": [
    "The dataset contains 83 rows, where each corresponds to a different candy bar.  There are 13 columns:\n",
    "- `'competitorname'` contains the name of the candy bar. \n",
    "- the next **9** columns (from `'chocolate'` to `'pluribus'`) describe the candy.  For instance, rows with chocolate candies have `\"Yes\"` in the `'chocolate'` column (and candies without chocolate have `\"No\"` in the same column).\n",
    "- `'sugarpercent'` provides some indication of the amount of sugar, where higher values signify higher sugar content.\n",
    "- `'pricepercent'` shows the price per unit, relative to the other candies in the dataset.\n",
    "- `'winpercent'` is calculated from the survey results; higher values indicate that the candy was more popular with survey respondents.\n",
    "\n",
    "Use the first five rows of the data to answer the questions below."
   ]
  },
  {
   "cell_type": "code",
   "execution_count": 6,
   "id": "f07a98ec",
   "metadata": {
    "execution": {
     "iopub.execute_input": "2024-12-04T04:00:38.029633Z",
     "iopub.status.busy": "2024-12-04T04:00:38.029254Z",
     "iopub.status.idle": "2024-12-04T04:00:38.039199Z",
     "shell.execute_reply": "2024-12-04T04:00:38.038160Z"
    },
    "papermill": {
     "duration": 0.02123,
     "end_time": "2024-12-04T04:00:38.041513",
     "exception": false,
     "start_time": "2024-12-04T04:00:38.020283",
     "status": "completed"
    },
    "tags": []
   },
   "outputs": [
    {
     "data": {
      "application/javascript": [
       "parent.postMessage({\"jupyterEvent\": \"custom.exercise_interaction\", \"data\": {\"outcomeType\": 1, \"valueTowardsCompletion\": 0.3333333333333333, \"interactionType\": 1, \"questionType\": 1, \"questionId\": \"2_ReviewData\", \"learnToolsVersion\": \"0.3.4\", \"failureMessage\": \"\", \"exceptionClass\": \"\", \"trace\": \"\"}}, \"*\")"
      ],
      "text/plain": [
       "<IPython.core.display.Javascript object>"
      ]
     },
     "metadata": {},
     "output_type": "display_data"
    },
    {
     "data": {
      "text/markdown": [
       "<span style=\"color:#33cc33\">Correct</span>"
      ],
      "text/plain": [
       "Correct"
      ]
     },
     "metadata": {},
     "output_type": "display_data"
    }
   ],
   "source": [
    "# Fill in the line below: Which candy was more popular with survey respondents:\n",
    "# '3 Musketeers' or 'Almond Joy'?  (Please enclose your answer in single quotes.)\n",
    "more_popular = '3 Musketeers'\n",
    "\n",
    "# Fill in the line below: Which candy has higher sugar content: 'Air Heads'\n",
    "# or 'Baby Ruth'? (Please enclose your answer in single quotes.)\n",
    "more_sugar = 'Air Heads'\n",
    "\n",
    "# Check your answers\n",
    "step_2.check()"
   ]
  },
  {
   "cell_type": "code",
   "execution_count": 7,
   "id": "38d63391",
   "metadata": {
    "execution": {
     "iopub.execute_input": "2024-12-04T04:00:38.059452Z",
     "iopub.status.busy": "2024-12-04T04:00:38.059068Z",
     "iopub.status.idle": "2024-12-04T04:00:38.063677Z",
     "shell.execute_reply": "2024-12-04T04:00:38.062683Z"
    },
    "papermill": {
     "duration": 0.016198,
     "end_time": "2024-12-04T04:00:38.065736",
     "exception": false,
     "start_time": "2024-12-04T04:00:38.049538",
     "status": "completed"
    },
    "tags": []
   },
   "outputs": [],
   "source": [
    "# Lines below will give you a hint or solution code\n",
    "#step_2.hint()\n",
    "#step_2.solution()"
   ]
  },
  {
   "cell_type": "markdown",
   "id": "4e21160f",
   "metadata": {
    "papermill": {
     "duration": 0.007845,
     "end_time": "2024-12-04T04:00:38.082153",
     "exception": false,
     "start_time": "2024-12-04T04:00:38.074308",
     "status": "completed"
    },
    "tags": []
   },
   "source": [
    "## Step 3: The role of sugar\n",
    "\n",
    "Do people tend to prefer candies with higher sugar content?  \n",
    "\n",
    "#### Part A\n",
    "\n",
    "Create a scatter plot that shows the relationship between `'sugarpercent'` (on the horizontal x-axis) and `'winpercent'` (on the vertical y-axis).  _Don't add a regression line just yet -- you'll do that in the next step!_"
   ]
  },
  {
   "cell_type": "code",
   "execution_count": 8,
   "id": "d9d42b7b",
   "metadata": {
    "execution": {
     "iopub.execute_input": "2024-12-04T04:00:38.099788Z",
     "iopub.status.busy": "2024-12-04T04:00:38.099376Z",
     "iopub.status.idle": "2024-12-04T04:00:38.411926Z",
     "shell.execute_reply": "2024-12-04T04:00:38.410717Z"
    },
    "papermill": {
     "duration": 0.324479,
     "end_time": "2024-12-04T04:00:38.414597",
     "exception": false,
     "start_time": "2024-12-04T04:00:38.090118",
     "status": "completed"
    },
    "tags": []
   },
   "outputs": [
    {
     "data": {
      "application/javascript": [
       "parent.postMessage({\"jupyterEvent\": \"custom.exercise_interaction\", \"data\": {\"outcomeType\": 1, \"valueTowardsCompletion\": 0.3333333333333333, \"interactionType\": 1, \"questionType\": 2, \"questionId\": \"3.1_PlotBlueScatter\", \"learnToolsVersion\": \"0.3.4\", \"failureMessage\": \"\", \"exceptionClass\": \"\", \"trace\": \"\"}}, \"*\")"
      ],
      "text/plain": [
       "<IPython.core.display.Javascript object>"
      ]
     },
     "metadata": {},
     "output_type": "display_data"
    },
    {
     "data": {
      "text/markdown": [
       "<span style=\"color:#33cc33\">Correct</span>"
      ],
      "text/plain": [
       "Correct"
      ]
     },
     "metadata": {},
     "output_type": "display_data"
    },
    {
     "data": {
      "image/png": "[encoded data removed]",
      "text/plain": [
       "<Figure size 800x400 with 1 Axes>"
      ]
     },
     "metadata": {},
     "output_type": "display_data"
    }
   ],
   "source": [
    "# Scatter plot showing the relationship between 'sugarpercent' and 'winpercent'\n",
    "# Your code here\n",
    "plt.figure(figsize=(8,4))\n",
    "plt.title(\"\")\n",
    "sns.scatterplot(x=candy_data[\"sugarpercent\"],y=candy_data[\"winpercent\"])\n",
    "\n",
    "# Check your answer\n",
    "step_3.a.check()"
   ]
  },
  {
   "cell_type": "code",
   "execution_count": 9,
   "id": "705e20dc",
   "metadata": {
    "execution": {
     "iopub.execute_input": "2024-12-04T04:00:38.434220Z",
     "iopub.status.busy": "2024-12-04T04:00:38.433727Z",
     "iopub.status.idle": "2024-12-04T04:00:38.438791Z",
     "shell.execute_reply": "2024-12-04T04:00:38.437523Z"
    },
    "papermill": {
     "duration": 0.017174,
     "end_time": "2024-12-04T04:00:38.441009",
     "exception": false,
     "start_time": "2024-12-04T04:00:38.423835",
     "status": "completed"
    },
    "tags": []
   },
   "outputs": [],
   "source": [
    "# Lines below will give you a hint or solution code\n",
    "# step_3.a.hint()\n",
    "# step_3.a.solution_plot()"
   ]
  },
  {
   "cell_type": "markdown",
   "id": "a0e7e136",
   "metadata": {
    "papermill": {
     "duration": 0.008263,
     "end_time": "2024-12-04T04:00:38.458053",
     "exception": false,
     "start_time": "2024-12-04T04:00:38.449790",
     "status": "completed"
    },
    "tags": []
   },
   "source": [
    "#### Part B\n",
    "\n",
    "Does the scatter plot show a **strong** correlation between the two variables?  If so, are candies with more sugar relatively more or less popular with the survey respondents?"
   ]
  },
  {
   "cell_type": "code",
   "execution_count": 10,
   "id": "8f9f18da",
   "metadata": {
    "execution": {
     "iopub.execute_input": "2024-12-04T04:00:38.476500Z",
     "iopub.status.busy": "2024-12-04T04:00:38.476148Z",
     "iopub.status.idle": "2024-12-04T04:00:38.480778Z",
     "shell.execute_reply": "2024-12-04T04:00:38.479472Z"
    },
    "papermill": {
     "duration": 0.016443,
     "end_time": "2024-12-04T04:00:38.483011",
     "exception": false,
     "start_time": "2024-12-04T04:00:38.466568",
     "status": "completed"
    },
    "tags": []
   },
   "outputs": [],
   "source": [
    "# step_3.b.hint()"
   ]
  },
  {
   "cell_type": "code",
   "execution_count": 11,
   "id": "a2940b0e",
   "metadata": {
    "execution": {
     "iopub.execute_input": "2024-12-04T04:00:38.502443Z",
     "iopub.status.busy": "2024-12-04T04:00:38.502055Z",
     "iopub.status.idle": "2024-12-04T04:00:38.510653Z",
     "shell.execute_reply": "2024-12-04T04:00:38.509731Z"
    },
    "papermill": {
     "duration": 0.020714,
     "end_time": "2024-12-04T04:00:38.512681",
     "exception": false,
     "start_time": "2024-12-04T04:00:38.491967",
     "status": "completed"
    },
    "tags": []
   },
   "outputs": [
    {
     "data": {
      "application/javascript": [
       "parent.postMessage({\"jupyterEvent\": \"custom.exercise_interaction\", \"data\": {\"interactionType\": 3, \"questionType\": 4, \"questionId\": \"3.2_ThinkBlueScatter\", \"learnToolsVersion\": \"0.3.4\", \"valueTowardsCompletion\": 0.0, \"failureMessage\": \"\", \"exceptionClass\": \"\", \"trace\": \"\", \"outcomeType\": 4}}, \"*\")"
      ],
      "text/plain": [
       "<IPython.core.display.Javascript object>"
      ]
     },
     "metadata": {},
     "output_type": "display_data"
    },
    {
     "data": {
      "text/markdown": [
       "<span style=\"color:#33cc99\">Solution:</span> The scatter plot does not show a strong correlation between the two variables. Since there is no clear relationship between the two variables, this tells us that sugar content does not play a strong role in candy popularity."
      ],
      "text/plain": [
       "Solution: The scatter plot does not show a strong correlation between the two variables. Since there is no clear relationship between the two variables, this tells us that sugar content does not play a strong role in candy popularity."
      ]
     },
     "metadata": {},
     "output_type": "display_data"
    }
   ],
   "source": [
    "# Check your answer (Run this code cell to receive credit!)\n",
    "step_3.b.solution()"
   ]
  },
  {
   "cell_type": "markdown",
   "id": "a98a6c0c",
   "metadata": {
    "papermill": {
     "duration": 0.008528,
     "end_time": "2024-12-04T04:00:38.530133",
     "exception": false,
     "start_time": "2024-12-04T04:00:38.521605",
     "status": "completed"
    },
    "tags": []
   },
   "source": [
    "## Step 4: Take a closer look\n",
    "\n",
    "#### Part A\n",
    "\n",
    "Create the same scatter plot you created in **Step 3**, but now with a regression line!"
   ]
  },
  {
   "cell_type": "code",
   "execution_count": 12,
   "id": "c4b544d5",
   "metadata": {
    "execution": {
     "iopub.execute_input": "2024-12-04T04:00:38.549597Z",
     "iopub.status.busy": "2024-12-04T04:00:38.549215Z",
     "iopub.status.idle": "2024-12-04T04:00:38.889733Z",
     "shell.execute_reply": "2024-12-04T04:00:38.888650Z"
    },
    "papermill": {
     "duration": 0.353111,
     "end_time": "2024-12-04T04:00:38.892167",
     "exception": false,
     "start_time": "2024-12-04T04:00:38.539056",
     "status": "completed"
    },
    "tags": []
   },
   "outputs": [
    {
     "data": {
      "application/javascript": [
       "parent.postMessage({\"jupyterEvent\": \"custom.exercise_interaction\", \"data\": {\"outcomeType\": 1, \"valueTowardsCompletion\": 0.3333333333333333, \"interactionType\": 1, \"questionType\": 2, \"questionId\": \"4.1_PlotBlueReg\", \"learnToolsVersion\": \"0.3.4\", \"failureMessage\": \"\", \"exceptionClass\": \"\", \"trace\": \"\"}}, \"*\")"
      ],
      "text/plain": [
       "<IPython.core.display.Javascript object>"
      ]
     },
     "metadata": {},
     "output_type": "display_data"
    },
    {
     "data": {
      "text/markdown": [
       "<span style=\"color:#33cc33\">Correct</span>"
      ],
      "text/plain": [
       "Correct"
      ]
     },
     "metadata": {},
     "output_type": "display_data"
    },
    {
     "data": {
      "image/png": "[encoded data removed]",
      "text/plain": [
       "<Figure size 640x480 with 1 Axes>"
      ]
     },
     "metadata": {},
     "output_type": "display_data"
    }
   ],
   "source": [
    "# Scatter plot w/ regression line showing the relationship between 'sugarpercent' and 'winpercent'\n",
    "sns.regplot(x =candy_data[\"sugarpercent\"] ,y = candy_data[\"winpercent\"])# Your code here\n",
    "\n",
    "# Check your answer\n",
    "step_4.a.check()"
   ]
  },
  {
   "cell_type": "code",
   "execution_count": 13,
   "id": "7b3ada8d",
   "metadata": {
    "execution": {
     "iopub.execute_input": "2024-12-04T04:00:38.913459Z",
     "iopub.status.busy": "2024-12-04T04:00:38.913064Z",
     "iopub.status.idle": "2024-12-04T04:00:38.917700Z",
     "shell.execute_reply": "2024-12-04T04:00:38.916598Z"
    },
    "papermill": {
     "duration": 0.017903,
     "end_time": "2024-12-04T04:00:38.919944",
     "exception": false,
     "start_time": "2024-12-04T04:00:38.902041",
     "status": "completed"
    },
    "tags": []
   },
   "outputs": [],
   "source": [
    "# Lines below will give you a hint or solution code\n",
    "# step_4.a.hint()\n",
    "# step_4.a.solution_plot()"
   ]
  },
  {
   "cell_type": "markdown",
   "id": "1763fa6c",
   "metadata": {
    "papermill": {
     "duration": 0.009211,
     "end_time": "2024-12-04T04:00:38.938705",
     "exception": false,
     "start_time": "2024-12-04T04:00:38.929494",
     "status": "completed"
    },
    "tags": []
   },
   "source": [
    "#### Part B\n",
    "\n",
    "According to the plot above, is there a **slight** correlation between `'winpercent'` and `'sugarpercent'`?  What does this tell you about the candy that people tend to prefer?"
   ]
  },
  {
   "cell_type": "code",
   "execution_count": 14,
   "id": "30f93c18",
   "metadata": {
    "execution": {
     "iopub.execute_input": "2024-12-04T04:00:38.959421Z",
     "iopub.status.busy": "2024-12-04T04:00:38.959017Z",
     "iopub.status.idle": "2024-12-04T04:00:38.963991Z",
     "shell.execute_reply": "2024-12-04T04:00:38.962725Z"
    },
    "papermill": {
     "duration": 0.018016,
     "end_time": "2024-12-04T04:00:38.966252",
     "exception": false,
     "start_time": "2024-12-04T04:00:38.948236",
     "status": "completed"
    },
    "tags": []
   },
   "outputs": [],
   "source": [
    "# step_4.b.hint()"
   ]
  },
  {
   "cell_type": "code",
   "execution_count": 15,
   "id": "c5981f15",
   "metadata": {
    "execution": {
     "iopub.execute_input": "2024-12-04T04:00:38.988536Z",
     "iopub.status.busy": "2024-12-04T04:00:38.987498Z",
     "iopub.status.idle": "2024-12-04T04:00:38.996122Z",
     "shell.execute_reply": "2024-12-04T04:00:38.995054Z"
    },
    "papermill": {
     "duration": 0.022794,
     "end_time": "2024-12-04T04:00:38.998552",
     "exception": false,
     "start_time": "2024-12-04T04:00:38.975758",
     "status": "completed"
    },
    "tags": []
   },
   "outputs": [
    {
     "data": {
      "application/javascript": [
       "parent.postMessage({\"jupyterEvent\": \"custom.exercise_interaction\", \"data\": {\"interactionType\": 3, \"questionType\": 4, \"questionId\": \"4.2_ThinkBlueReg\", \"learnToolsVersion\": \"0.3.4\", \"valueTowardsCompletion\": 0.0, \"failureMessage\": \"\", \"exceptionClass\": \"\", \"trace\": \"\", \"outcomeType\": 4}}, \"*\")"
      ],
      "text/plain": [
       "<IPython.core.display.Javascript object>"
      ]
     },
     "metadata": {},
     "output_type": "display_data"
    },
    {
     "data": {
      "text/markdown": [
       "<span style=\"color:#33cc99\">Solution:</span> Since the regression line has a slightly positive slope, this tells us that there is a slightly positive correlation between `'winpercent'` and `'sugarpercent'`. Thus, people have a slight preference for candies containing relatively more sugar."
      ],
      "text/plain": [
       "Solution: Since the regression line has a slightly positive slope, this tells us that there is a slightly positive correlation between `'winpercent'` and `'sugarpercent'`. Thus, people have a slight preference for candies containing relatively more sugar."
      ]
     },
     "metadata": {},
     "output_type": "display_data"
    }
   ],
   "source": [
    "# Check your answer (Run this code cell to receive credit!)\n",
    "step_4.b.solution()"
   ]
  },
  {
   "cell_type": "markdown",
   "id": "12c29991",
   "metadata": {
    "papermill": {
     "duration": 0.009831,
     "end_time": "2024-12-04T04:00:39.018575",
     "exception": false,
     "start_time": "2024-12-04T04:00:39.008744",
     "status": "completed"
    },
    "tags": []
   },
   "source": [
    "## Step 5: Chocolate!\n",
    "\n",
    "In the code cell below, create a scatter plot to show the relationship between `'pricepercent'` (on the horizontal x-axis) and `'winpercent'` (on the vertical y-axis). Use the `'chocolate'` column to color-code the points.  _Don't add any regression lines just yet -- you'll do that in the next step!_"
   ]
  },
  {
   "cell_type": "code",
   "execution_count": 16,
   "id": "54210839",
   "metadata": {
    "execution": {
     "iopub.execute_input": "2024-12-04T04:00:39.040471Z",
     "iopub.status.busy": "2024-12-04T04:00:39.040085Z",
     "iopub.status.idle": "2024-12-04T04:00:39.359633Z",
     "shell.execute_reply": "2024-12-04T04:00:39.358261Z"
    },
    "papermill": {
     "duration": 0.333214,
     "end_time": "2024-12-04T04:00:39.361996",
     "exception": false,
     "start_time": "2024-12-04T04:00:39.028782",
     "status": "completed"
    },
    "tags": []
   },
   "outputs": [
    {
     "data": {
      "application/javascript": [
       "parent.postMessage({\"jupyterEvent\": \"custom.exercise_interaction\", \"data\": {\"outcomeType\": 1, \"valueTowardsCompletion\": 0.3333333333333333, \"interactionType\": 1, \"questionType\": 2, \"questionId\": \"5_ColorScatter\", \"learnToolsVersion\": \"0.3.4\", \"failureMessage\": \"\", \"exceptionClass\": \"\", \"trace\": \"\"}}, \"*\")"
      ],
      "text/plain": [
       "<IPython.core.display.Javascript object>"
      ]
     },
     "metadata": {},
     "output_type": "display_data"
    },
    {
     "data": {
      "text/markdown": [
       "<span style=\"color:#33cc33\">Correct</span>"
      ],
      "text/plain": [
       "Correct"
      ]
     },
     "metadata": {},
     "output_type": "display_data"
    },
    {
     "data": {
      "image/png": "[encoded data removed]",
      "text/plain": [
       "<Figure size 640x480 with 1 Axes>"
      ]
     },
     "metadata": {},
     "output_type": "display_data"
    }
   ],
   "source": [
    "# Scatter plot showing the relationship between 'pricepercent', 'winpercent', and 'chocolate'\n",
    "sns.scatterplot(x = candy_data[\"pricepercent\"], y = candy_data[\"winpercent\"], hue = candy_data[\"chocolate\"])# Your code here\n",
    "\n",
    "# Check your answer\n",
    "step_5.check()"
   ]
  },
  {
   "cell_type": "code",
   "execution_count": 17,
   "id": "c097be8f",
   "metadata": {
    "execution": {
     "iopub.execute_input": "2024-12-04T04:00:39.385311Z",
     "iopub.status.busy": "2024-12-04T04:00:39.384602Z",
     "iopub.status.idle": "2024-12-04T04:00:39.389285Z",
     "shell.execute_reply": "2024-12-04T04:00:39.388034Z"
    },
    "papermill": {
     "duration": 0.018823,
     "end_time": "2024-12-04T04:00:39.391655",
     "exception": false,
     "start_time": "2024-12-04T04:00:39.372832",
     "status": "completed"
    },
    "tags": []
   },
   "outputs": [],
   "source": [
    "# Lines below will give you a hint or solution code\n",
    "# step_5.hint()\n",
    "# step_5.solution_plot()"
   ]
  },
  {
   "cell_type": "markdown",
   "id": "df095311",
   "metadata": {
    "papermill": {
     "duration": 0.010981,
     "end_time": "2024-12-04T04:00:39.413801",
     "exception": false,
     "start_time": "2024-12-04T04:00:39.402820",
     "status": "completed"
    },
    "tags": []
   },
   "source": [
    "Can you see any interesting patterns in the scatter plot?  We'll investigate this plot further  by adding regression lines in the next step!\n",
    "\n",
    "## Step 6: Investigate chocolate\n",
    "\n",
    "#### Part A\n",
    "\n",
    "Create the same scatter plot you created in **Step 5**, but now with two regression lines, corresponding to (1) chocolate candies and (2) candies without chocolate."
   ]
  },
  {
   "cell_type": "code",
   "execution_count": 18,
   "id": "ad1ef8c4",
   "metadata": {
    "execution": {
     "iopub.execute_input": "2024-12-04T04:00:39.438089Z",
     "iopub.status.busy": "2024-12-04T04:00:39.437696Z",
     "iopub.status.idle": "2024-12-04T04:00:40.077144Z",
     "shell.execute_reply": "2024-12-04T04:00:40.075979Z"
    },
    "papermill": {
     "duration": 0.654574,
     "end_time": "2024-12-04T04:00:40.079796",
     "exception": false,
     "start_time": "2024-12-04T04:00:39.425222",
     "status": "completed"
    },
    "tags": []
   },
   "outputs": [
    {
     "data": {
      "application/javascript": [
       "parent.postMessage({\"jupyterEvent\": \"custom.exercise_interaction\", \"data\": {\"outcomeType\": 1, \"valueTowardsCompletion\": 0.3333333333333333, \"interactionType\": 1, \"questionType\": 2, \"questionId\": \"6.1_PlotColorReg\", \"learnToolsVersion\": \"0.3.4\", \"failureMessage\": \"\", \"exceptionClass\": \"\", \"trace\": \"\"}}, \"*\")"
      ],
      "text/plain": [
       "<IPython.core.display.Javascript object>"
      ]
     },
     "metadata": {},
     "output_type": "display_data"
    },
    {
     "data": {
      "text/markdown": [
       "<span style=\"color:#33cc33\">Correct</span>"
      ],
      "text/plain": [
       "Correct"
      ]
     },
     "metadata": {},
     "output_type": "display_data"
    },
    {
     "data": {
      "image/png": "[encoded data removed]",
      "text/plain": [
       "<Figure size 578.611x500 with 1 Axes>"
      ]
     },
     "metadata": {},
     "output_type": "display_data"
    }
   ],
   "source": [
    "# Color-coded scatter plot w/ regression lines\n",
    "sns.lmplot(x=\"pricepercent\", y=\"winpercent\",hue='chocolate', data=candy_data)# Your code here\n",
    "\n",
    "# Check your answer\n",
    "step_6.a.check()"
   ]
  },
  {
   "cell_type": "code",
   "execution_count": 19,
   "id": "fc3885d4",
   "metadata": {
    "execution": {
     "iopub.execute_input": "2024-12-04T04:00:40.105227Z",
     "iopub.status.busy": "2024-12-04T04:00:40.104409Z",
     "iopub.status.idle": "2024-12-04T04:00:40.109001Z",
     "shell.execute_reply": "2024-12-04T04:00:40.107978Z"
    },
    "papermill": {
     "duration": 0.019338,
     "end_time": "2024-12-04T04:00:40.111182",
     "exception": false,
     "start_time": "2024-12-04T04:00:40.091844",
     "status": "completed"
    },
    "tags": []
   },
   "outputs": [],
   "source": [
    "# Lines below will give you a hint or solution code\n",
    "#step_6.a.hint()\n",
    "#step_6.a.solution_plot()"
   ]
  },
  {
   "cell_type": "markdown",
   "id": "c3dbe563",
   "metadata": {
    "papermill": {
     "duration": 0.011231,
     "end_time": "2024-12-04T04:00:40.133972",
     "exception": false,
     "start_time": "2024-12-04T04:00:40.122741",
     "status": "completed"
    },
    "tags": []
   },
   "source": [
    "#### Part B\n",
    "\n",
    "Using the regression lines, what conclusions can you draw about the effects of chocolate and price on candy popularity?"
   ]
  },
  {
   "cell_type": "code",
   "execution_count": 20,
   "id": "7b4cc776",
   "metadata": {
    "execution": {
     "iopub.execute_input": "2024-12-04T04:00:40.159634Z",
     "iopub.status.busy": "2024-12-04T04:00:40.158586Z",
     "iopub.status.idle": "2024-12-04T04:00:40.163819Z",
     "shell.execute_reply": "2024-12-04T04:00:40.162472Z"
    },
    "papermill": {
     "duration": 0.020677,
     "end_time": "2024-12-04T04:00:40.166239",
     "exception": false,
     "start_time": "2024-12-04T04:00:40.145562",
     "status": "completed"
    },
    "tags": []
   },
   "outputs": [],
   "source": [
    "# step_6.b.hint()"
   ]
  },
  {
   "cell_type": "code",
   "execution_count": 21,
   "id": "e177f418",
   "metadata": {
    "execution": {
     "iopub.execute_input": "2024-12-04T04:00:40.190509Z",
     "iopub.status.busy": "2024-12-04T04:00:40.190115Z",
     "iopub.status.idle": "2024-12-04T04:00:40.198628Z",
     "shell.execute_reply": "2024-12-04T04:00:40.197583Z"
    },
    "papermill": {
     "duration": 0.023087,
     "end_time": "2024-12-04T04:00:40.200681",
     "exception": false,
     "start_time": "2024-12-04T04:00:40.177594",
     "status": "completed"
    },
    "tags": []
   },
   "outputs": [
    {
     "data": {
      "application/javascript": [
       "parent.postMessage({\"jupyterEvent\": \"custom.exercise_interaction\", \"data\": {\"interactionType\": 3, \"questionType\": 4, \"questionId\": \"6.2_ThinkColorReg\", \"learnToolsVersion\": \"0.3.4\", \"valueTowardsCompletion\": 0.0, \"failureMessage\": \"\", \"exceptionClass\": \"\", \"trace\": \"\", \"outcomeType\": 4}}, \"*\")"
      ],
      "text/plain": [
       "<IPython.core.display.Javascript object>"
      ]
     },
     "metadata": {},
     "output_type": "display_data"
    },
    {
     "data": {
      "text/markdown": [
       "<span style=\"color:#33cc99\">Solution:</span> We'll begin with the regression line for chocolate candies. Since this line has a slightly positive slope, we can say that more expensive chocolate candies tend to be more popular (than relatively cheaper chocolate candies).  Likewise, since the regression line for candies without chocolate has a negative slope, we can say that if candies don't contain chocolate, they tend to be more popular when they are cheaper.  One important note, however, is that the dataset is quite small -- so we shouldn't invest too much trust in these patterns!  To inspire more confidence in the results, we should add more candies to the dataset."
      ],
      "text/plain": [
       "Solution: We'll begin with the regression line for chocolate candies. Since this line has a slightly positive slope, we can say that more expensive chocolate candies tend to be more popular (than relatively cheaper chocolate candies).  Likewise, since the regression line for candies without chocolate has a negative slope, we can say that if candies don't contain chocolate, they tend to be more popular when they are cheaper.  One important note, however, is that the dataset is quite small -- so we shouldn't invest too much trust in these patterns!  To inspire more confidence in the results, we should add more candies to the dataset."
      ]
     },
     "metadata": {},
     "output_type": "display_data"
    }
   ],
   "source": [
    "# Check your answer (Run this code cell to receive credit!)\n",
    "step_6.b.solution()"
   ]
  },
  {
   "cell_type": "markdown",
   "id": "70d84926",
   "metadata": {
    "papermill": {
     "duration": 0.011282,
     "end_time": "2024-12-04T04:00:40.223497",
     "exception": false,
     "start_time": "2024-12-04T04:00:40.212215",
     "status": "completed"
    },
    "tags": []
   },
   "source": [
    "## Step 7: Everybody loves chocolate.\n",
    "\n",
    "#### Part A\n",
    "\n",
    "Create a categorical scatter plot to highlight the relationship between `'chocolate'` and `'winpercent'`.  Put `'chocolate'` on the (horizontal) x-axis, and `'winpercent'` on the (vertical) y-axis."
   ]
  },
  {
   "cell_type": "code",
   "execution_count": 22,
   "id": "33cbda72",
   "metadata": {
    "execution": {
     "iopub.execute_input": "2024-12-04T04:00:40.248942Z",
     "iopub.status.busy": "2024-12-04T04:00:40.248180Z",
     "iopub.status.idle": "2024-12-04T04:00:40.631230Z",
     "shell.execute_reply": "2024-12-04T04:00:40.630028Z"
    },
    "papermill": {
     "duration": 0.399657,
     "end_time": "2024-12-04T04:00:40.634774",
     "exception": false,
     "start_time": "2024-12-04T04:00:40.235117",
     "status": "completed"
    },
    "tags": []
   },
   "outputs": [
    {
     "data": {
      "application/javascript": [
       "parent.postMessage({\"jupyterEvent\": \"custom.exercise_interaction\", \"data\": {\"outcomeType\": 1, \"valueTowardsCompletion\": 0.3333333333333333, \"interactionType\": 1, \"questionType\": 2, \"questionId\": \"7.1_PlotSwarm\", \"learnToolsVersion\": \"0.3.4\", \"failureMessage\": \"\", \"exceptionClass\": \"\", \"trace\": \"\"}}, \"*\")"
      ],
      "text/plain": [
       "<IPython.core.display.Javascript object>"
      ]
     },
     "metadata": {},
     "output_type": "display_data"
    },
    {
     "data": {
      "text/markdown": [
       "<span style=\"color:#33cc33\">Correct</span>"
      ],
      "text/plain": [
       "Correct"
      ]
     },
     "metadata": {},
     "output_type": "display_data"
    },
    {
     "data": {
      "image/png": "[encoded data removed]",
      "text/plain": [
       "<Figure size 640x480 with 1 Axes>"
      ]
     },
     "metadata": {},
     "output_type": "display_data"
    }
   ],
   "source": [
    "# Scatter plot showing the relationship between 'chocolate' and 'winpercent'\n",
    "sns.swarmplot(x=candy_data[\"chocolate\"],y = candy_data[\"winpercent\"]) # Your code here\n",
    "\n",
    "# Check your answer\n",
    "step_7.a.check()"
   ]
  },
  {
   "cell_type": "code",
   "execution_count": 23,
   "id": "a39fc47e",
   "metadata": {
    "execution": {
     "iopub.execute_input": "2024-12-04T04:00:40.683719Z",
     "iopub.status.busy": "2024-12-04T04:00:40.682568Z",
     "iopub.status.idle": "2024-12-04T04:00:40.688074Z",
     "shell.execute_reply": "2024-12-04T04:00:40.686998Z"
    },
    "papermill": {
     "duration": 0.033513,
     "end_time": "2024-12-04T04:00:40.691439",
     "exception": false,
     "start_time": "2024-12-04T04:00:40.657926",
     "status": "completed"
    },
    "tags": []
   },
   "outputs": [],
   "source": [
    "# Lines below will give you a hint or solution code\n",
    "#step_7.a.hint()\n",
    "#step_7.a.solution_plot()"
   ]
  },
  {
   "cell_type": "markdown",
   "id": "b7942b17",
   "metadata": {
    "papermill": {
     "duration": 0.011714,
     "end_time": "2024-12-04T04:00:40.715199",
     "exception": false,
     "start_time": "2024-12-04T04:00:40.703485",
     "status": "completed"
    },
    "tags": []
   },
   "source": [
    "#### Part B\n",
    "\n",
    "You decide to dedicate a section of your report to the fact that chocolate candies tend to be more popular than candies without chocolate.  Which plot is more appropriate to tell this story: the plot from **Step 6**, or the plot from **Step 7**?"
   ]
  },
  {
   "cell_type": "code",
   "execution_count": 24,
   "id": "71b2e004",
   "metadata": {
    "execution": {
     "iopub.execute_input": "2024-12-04T04:00:40.742063Z",
     "iopub.status.busy": "2024-12-04T04:00:40.741686Z",
     "iopub.status.idle": "2024-12-04T04:00:40.746641Z",
     "shell.execute_reply": "2024-12-04T04:00:40.745335Z"
    },
    "papermill": {
     "duration": 0.020686,
     "end_time": "2024-12-04T04:00:40.748901",
     "exception": false,
     "start_time": "2024-12-04T04:00:40.728215",
     "status": "completed"
    },
    "tags": []
   },
   "outputs": [],
   "source": [
    "# step_7.b.hint()"
   ]
  },
  {
   "cell_type": "code",
   "execution_count": 25,
   "id": "ecb2cf63",
   "metadata": {
    "execution": {
     "iopub.execute_input": "2024-12-04T04:00:40.775041Z",
     "iopub.status.busy": "2024-12-04T04:00:40.774686Z",
     "iopub.status.idle": "2024-12-04T04:00:40.783637Z",
     "shell.execute_reply": "2024-12-04T04:00:40.782403Z"
    },
    "papermill": {
     "duration": 0.024618,
     "end_time": "2024-12-04T04:00:40.785939",
     "exception": false,
     "start_time": "2024-12-04T04:00:40.761321",
     "status": "completed"
    },
    "tags": []
   },
   "outputs": [
    {
     "data": {
      "application/javascript": [
       "parent.postMessage({\"jupyterEvent\": \"custom.exercise_interaction\", \"data\": {\"interactionType\": 3, \"questionType\": 4, \"questionId\": \"7.2_ThinkSwarm\", \"learnToolsVersion\": \"0.3.4\", \"valueTowardsCompletion\": 0.0, \"failureMessage\": \"\", \"exceptionClass\": \"\", \"trace\": \"\", \"outcomeType\": 4}}, \"*\")"
      ],
      "text/plain": [
       "<IPython.core.display.Javascript object>"
      ]
     },
     "metadata": {},
     "output_type": "display_data"
    },
    {
     "data": {
      "text/markdown": [
       "<span style=\"color:#33cc99\">Solution:</span> In this case, the categorical scatter plot from **Step 7** is the more appropriate plot. While both plots tell the desired story, the plot from **Step 6** conveys far more information that could distract from the main point."
      ],
      "text/plain": [
       "Solution: In this case, the categorical scatter plot from **Step 7** is the more appropriate plot. While both plots tell the desired story, the plot from **Step 6** conveys far more information that could distract from the main point."
      ]
     },
     "metadata": {},
     "output_type": "display_data"
    }
   ],
   "source": [
    "# Check your answer (Run this code cell to receive credit!)\n",
    "step_7.b.solution()"
   ]
  },
  {
   "cell_type": "markdown",
   "id": "11ecbcf4",
   "metadata": {
    "papermill": {
     "duration": 0.011834,
     "end_time": "2024-12-04T04:00:40.810157",
     "exception": false,
     "start_time": "2024-12-04T04:00:40.798323",
     "status": "completed"
    },
    "tags": []
   },
   "source": [
    "## Keep going\n",
    "\n",
    "Explore **[histograms and density plots](https://www.kaggle.com/alexisbcook/distributions)**."
   ]
  },
  {
   "cell_type": "markdown",
   "id": "fcbf836c",
   "metadata": {
    "papermill": {
     "duration": 0.01192,
     "end_time": "2024-12-04T04:00:40.834363",
     "exception": false,
     "start_time": "2024-12-04T04:00:40.822443",
     "status": "completed"
    },
    "tags": []
   },
   "source": [
    "---\n",
    "\n",
    "\n",
    "\n",
    "\n",
    "*Have questions or comments? Visit the [course discussion forum](https://www.kaggle.com/learn/data-visualization/discussion) to chat with other learners.*"
   ]
  }
 ],
 "metadata": {
  "kaggle": {
   "accelerator": "none",
   "dataSources": [
    {
     "datasetId": 116573,
     "sourceId": 3551030,
     "sourceType": "datasetVersion"
    }
   ],
   "isGpuEnabled": false,
   "isInternetEnabled": false,
   "language": "python",
   "sourceType": "notebook"
  },
  "kernelspec": {
   "display_name": "Python 3",
   "language": "python",
   "name": "python3"
  },
  "language_info": {
   "codemirror_mode": {
    "name": "ipython",
    "version": 3
   },
   "file_extension": ".py",
   "mimetype": "text/x-python",
   "name": "python",
   "nbconvert_exporter": "python",
   "pygments_lexer": "ipython3",
   "version": "3.10.14"
  },
  "papermill": {
   "default_parameters": {},
   "duration": 9.245657,
   "end_time": "2024-12-04T04:00:41.467962",
   "environment_variables": {},
   "exception": null,
   "input_path": "__notebook__.ipynb",
   "output_path": "__notebook__.ipynb",
   "parameters": {},
   "start_time": "2024-12-04T04:00:32.222305",
   "version": "2.6.0"
  }
 },
 "nbformat": 4,
 "nbformat_minor": 5
}
