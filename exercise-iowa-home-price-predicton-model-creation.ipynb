{
 "cells": [
  {
   "cell_type": "markdown",
   "id": "3bd2f0c4",
   "metadata": {
    "papermill": {
     "duration": 0.005506,
     "end_time": "2024-12-07T10:17:35.475497",
     "exception": false,
     "start_time": "2024-12-07T10:17:35.469991",
     "status": "completed"
    },
    "tags": []
   },
   "source": [
    "**This notebook is an exercise in the [Introduction to Machine Learning](https://www.kaggle.com/learn/intro-to-machine-learning) course.  You can reference the tutorial at [this link](https://www.kaggle.com/dansbecker/your-first-machine-learning-model).**\n",
    "\n",
    "---\n"
   ]
  },
  {
   "cell_type": "markdown",
   "id": "251d861d",
   "metadata": {
    "papermill": {
     "duration": 0.004042,
     "end_time": "2024-12-07T10:17:35.484164",
     "exception": false,
     "start_time": "2024-12-07T10:17:35.480122",
     "status": "completed"
    },
    "tags": []
   },
   "source": [
    "## Recap\n",
    "So far, you have loaded your data and reviewed it with the following code. Run this cell to set up your coding environment where the previous step left off."
   ]
  },
  {
   "cell_type": "code",
   "execution_count": 1,
   "id": "d303c35b",
   "metadata": {
    "execution": {
     "iopub.execute_input": "2024-12-07T10:17:35.494330Z",
     "iopub.status.busy": "2024-12-07T10:17:35.493891Z",
     "iopub.status.idle": "2024-12-07T10:17:38.219868Z",
     "shell.execute_reply": "2024-12-07T10:17:38.218672Z"
    },
    "papermill": {
     "duration": 2.733808,
     "end_time": "2024-12-07T10:17:38.222193",
     "exception": false,
     "start_time": "2024-12-07T10:17:35.488385",
     "status": "completed"
    },
    "tags": []
   },
   "outputs": [
    {
     "name": "stdout",
     "output_type": "stream",
     "text": [
      "Setup Complete\n"
     ]
    }
   ],
   "source": [
    "# Code you have previously used to load data\n",
    "import pandas as pd\n",
    "\n",
    "# Path of the file to read\n",
    "iowa_file_path = '../input/home-data-for-ml-course/train.csv'\n",
    "\n",
    "home_data = pd.read_csv(iowa_file_path)\n",
    "\n",
    "# Set up code checking\n",
    "from learntools.core import binder\n",
    "binder.bind(globals())\n",
    "from learntools.machine_learning.ex3 import *\n",
    "\n",
    "print(\"Setup Complete\")"
   ]
  },
  {
   "cell_type": "markdown",
   "id": "b5a434ed",
   "metadata": {
    "papermill": {
     "duration": 0.005902,
     "end_time": "2024-12-07T10:17:38.232842",
     "exception": false,
     "start_time": "2024-12-07T10:17:38.226940",
     "status": "completed"
    },
    "tags": []
   },
   "source": [
    "# Exercises\n",
    "\n",
    "## Step 1: Specify Prediction Target\n",
    "Select the target variable, which corresponds to the sales price. Save this to a new variable called `y`. You'll need to print a list of the columns to find the name of the column you need.\n"
   ]
  },
  {
   "cell_type": "code",
   "execution_count": 2,
   "id": "c4ab774d",
   "metadata": {
    "execution": {
     "iopub.execute_input": "2024-12-07T10:17:38.243815Z",
     "iopub.status.busy": "2024-12-07T10:17:38.243315Z",
     "iopub.status.idle": "2024-12-07T10:17:38.252274Z",
     "shell.execute_reply": "2024-12-07T10:17:38.251194Z"
    },
    "papermill": {
     "duration": 0.017289,
     "end_time": "2024-12-07T10:17:38.254741",
     "exception": false,
     "start_time": "2024-12-07T10:17:38.237452",
     "status": "completed"
    },
    "tags": []
   },
   "outputs": [
    {
     "data": {
      "text/plain": [
       "Index(['Id', 'MSSubClass', 'MSZoning', 'LotFrontage', 'LotArea', 'Street',\n",
       "       'Alley', 'LotShape', 'LandContour', 'Utilities', 'LotConfig',\n",
       "       'LandSlope', 'Neighborhood', 'Condition1', 'Condition2', 'BldgType',\n",
       "       'HouseStyle', 'OverallQual', 'OverallCond', 'YearBuilt', 'YearRemodAdd',\n",
       "       'RoofStyle', 'RoofMatl', 'Exterior1st', 'Exterior2nd', 'MasVnrType',\n",
       "       'MasVnrArea', 'ExterQual', 'ExterCond', 'Foundation', 'BsmtQual',\n",
       "       'BsmtCond', 'BsmtExposure', 'BsmtFinType1', 'BsmtFinSF1',\n",
       "       'BsmtFinType2', 'BsmtFinSF2', 'BsmtUnfSF', 'TotalBsmtSF', 'Heating',\n",
       "       'HeatingQC', 'CentralAir', 'Electrical', '1stFlrSF', '2ndFlrSF',\n",
       "       'LowQualFinSF', 'GrLivArea', 'BsmtFullBath', 'BsmtHalfBath', 'FullBath',\n",
       "       'HalfBath', 'BedroomAbvGr', 'KitchenAbvGr', 'KitchenQual',\n",
       "       'TotRmsAbvGrd', 'Functional', 'Fireplaces', 'FireplaceQu', 'GarageType',\n",
       "       'GarageYrBlt', 'GarageFinish', 'GarageCars', 'GarageArea', 'GarageQual',\n",
       "       'GarageCond', 'PavedDrive', 'WoodDeckSF', 'OpenPorchSF',\n",
       "       'EnclosedPorch', '3SsnPorch', 'ScreenPorch', 'PoolArea', 'PoolQC',\n",
       "       'Fence', 'MiscFeature', 'MiscVal', 'MoSold', 'YrSold', 'SaleType',\n",
       "       'SaleCondition', 'SalePrice'],\n",
       "      dtype='object')"
      ]
     },
     "execution_count": 2,
     "metadata": {},
     "output_type": "execute_result"
    }
   ],
   "source": [
    "# print the list of columns in the dataset to find the name of the prediction target\n",
    "home_data.columns"
   ]
  },
  {
   "cell_type": "code",
   "execution_count": 3,
   "id": "076875f0",
   "metadata": {
    "execution": {
     "iopub.execute_input": "2024-12-07T10:17:38.265859Z",
     "iopub.status.busy": "2024-12-07T10:17:38.265468Z",
     "iopub.status.idle": "2024-12-07T10:17:38.280410Z",
     "shell.execute_reply": "2024-12-07T10:17:38.279343Z"
    },
    "papermill": {
     "duration": 0.022929,
     "end_time": "2024-12-07T10:17:38.282534",
     "exception": false,
     "start_time": "2024-12-07T10:17:38.259605",
     "status": "completed"
    },
    "tags": []
   },
   "outputs": [
    {
     "data": {
      "application/javascript": [
       "parent.postMessage({\"jupyterEvent\": \"custom.exercise_interaction\", \"data\": {\"outcomeType\": 1, \"valueTowardsCompletion\": 0.25, \"interactionType\": 1, \"questionType\": 2, \"questionId\": \"1_SetTarget\", \"learnToolsVersion\": \"0.3.4\", \"failureMessage\": \"\", \"exceptionClass\": \"\", \"trace\": \"\"}}, \"*\")"
      ],
      "text/plain": [
       "<IPython.core.display.Javascript object>"
      ]
     },
     "metadata": {},
     "output_type": "display_data"
    },
    {
     "data": {
      "text/markdown": [
       "<span style=\"color:#33cc33\">Correct</span>"
      ],
      "text/plain": [
       "Correct"
      ]
     },
     "metadata": {},
     "output_type": "display_data"
    }
   ],
   "source": [
    "y = home_data.SalePrice\n",
    "\n",
    "# Check your answer\n",
    "step_1.check()"
   ]
  },
  {
   "cell_type": "code",
   "execution_count": 4,
   "id": "34b19fcf",
   "metadata": {
    "execution": {
     "iopub.execute_input": "2024-12-07T10:17:38.293954Z",
     "iopub.status.busy": "2024-12-07T10:17:38.293596Z",
     "iopub.status.idle": "2024-12-07T10:17:38.297771Z",
     "shell.execute_reply": "2024-12-07T10:17:38.296954Z"
    },
    "papermill": {
     "duration": 0.01218,
     "end_time": "2024-12-07T10:17:38.299604",
     "exception": false,
     "start_time": "2024-12-07T10:17:38.287424",
     "status": "completed"
    },
    "tags": []
   },
   "outputs": [],
   "source": [
    "# The lines below will show you a hint or the solution.\n",
    "# step_1.hint() \n",
    "# step_1.solution()"
   ]
  },
  {
   "cell_type": "markdown",
   "id": "8ab8d9a2",
   "metadata": {
    "papermill": {
     "duration": 0.004671,
     "end_time": "2024-12-07T10:17:38.309281",
     "exception": false,
     "start_time": "2024-12-07T10:17:38.304610",
     "status": "completed"
    },
    "tags": []
   },
   "source": [
    "## Step 2: Create X\n",
    "Now you will create a DataFrame called `X` holding the predictive features.\n",
    "\n",
    "Since you want only some columns from the original data, you'll first create a list with the names of the columns you want in `X`.\n",
    "\n",
    "You'll use just the following columns in the list (you can copy and paste the whole list to save some typing, though you'll still need to add quotes):\n",
    "  * LotArea\n",
    "  * YearBuilt\n",
    "  * 1stFlrSF\n",
    "  * 2ndFlrSF\n",
    "  * FullBath\n",
    "  * BedroomAbvGr\n",
    "  * TotRmsAbvGrd\n",
    "\n",
    "After you've created that list of features, use it to create the DataFrame that you'll use to fit the model."
   ]
  },
  {
   "cell_type": "code",
   "execution_count": 5,
   "id": "f4b8bc19",
   "metadata": {
    "execution": {
     "iopub.execute_input": "2024-12-07T10:17:38.320798Z",
     "iopub.status.busy": "2024-12-07T10:17:38.320430Z",
     "iopub.status.idle": "2024-12-07T10:17:38.339564Z",
     "shell.execute_reply": "2024-12-07T10:17:38.338474Z"
    },
    "papermill": {
     "duration": 0.027245,
     "end_time": "2024-12-07T10:17:38.341578",
     "exception": false,
     "start_time": "2024-12-07T10:17:38.314333",
     "status": "completed"
    },
    "tags": []
   },
   "outputs": [
    {
     "data": {
      "application/javascript": [
       "parent.postMessage({\"jupyterEvent\": \"custom.exercise_interaction\", \"data\": {\"outcomeType\": 1, \"valueTowardsCompletion\": 0.25, \"interactionType\": 1, \"questionType\": 2, \"questionId\": \"2_SelectPredictionData\", \"learnToolsVersion\": \"0.3.4\", \"failureMessage\": \"\", \"exceptionClass\": \"\", \"trace\": \"\"}}, \"*\")"
      ],
      "text/plain": [
       "<IPython.core.display.Javascript object>"
      ]
     },
     "metadata": {},
     "output_type": "display_data"
    },
    {
     "data": {
      "text/markdown": [
       "<span style=\"color:#33cc33\">Correct</span>"
      ],
      "text/plain": [
       "Correct"
      ]
     },
     "metadata": {},
     "output_type": "display_data"
    }
   ],
   "source": [
    "# Create the list of features below\n",
    "feature_names = [\"LotArea\",\"YearBuilt\",\"1stFlrSF\",\"2ndFlrSF\",\"FullBath\",\"BedroomAbvGr\", \"TotRmsAbvGrd\"]\n",
    "\n",
    "# Select data corresponding to features in feature_names\n",
    "X = home_data[feature_names]\n",
    "\n",
    "# Check your answer\n",
    "step_2.check()"
   ]
  },
  {
   "cell_type": "code",
   "execution_count": 6,
   "id": "576f3c02",
   "metadata": {
    "execution": {
     "iopub.execute_input": "2024-12-07T10:17:38.353504Z",
     "iopub.status.busy": "2024-12-07T10:17:38.353062Z",
     "iopub.status.idle": "2024-12-07T10:17:38.357339Z",
     "shell.execute_reply": "2024-12-07T10:17:38.356325Z"
    },
    "papermill": {
     "duration": 0.012808,
     "end_time": "2024-12-07T10:17:38.359410",
     "exception": false,
     "start_time": "2024-12-07T10:17:38.346602",
     "status": "completed"
    },
    "tags": []
   },
   "outputs": [],
   "source": [
    "# step_2.hint()\n",
    "# step_2.solution()"
   ]
  },
  {
   "cell_type": "markdown",
   "id": "d8bc0236",
   "metadata": {
    "papermill": {
     "duration": 0.004952,
     "end_time": "2024-12-07T10:17:38.369670",
     "exception": false,
     "start_time": "2024-12-07T10:17:38.364718",
     "status": "completed"
    },
    "tags": []
   },
   "source": [
    "## Review Data\n",
    "Before building a model, take a quick look at **X** to verify it looks sensible"
   ]
  },
  {
   "cell_type": "code",
   "execution_count": 7,
   "id": "2d880a86",
   "metadata": {
    "execution": {
     "iopub.execute_input": "2024-12-07T10:17:38.381099Z",
     "iopub.status.busy": "2024-12-07T10:17:38.380729Z",
     "iopub.status.idle": "2024-12-07T10:17:38.413496Z",
     "shell.execute_reply": "2024-12-07T10:17:38.412313Z"
    },
    "papermill": {
     "duration": 0.04135,
     "end_time": "2024-12-07T10:17:38.415851",
     "exception": false,
     "start_time": "2024-12-07T10:17:38.374501",
     "status": "completed"
    },
    "tags": []
   },
   "outputs": [
    {
     "name": "stdout",
     "output_type": "stream",
     "text": [
      "             LotArea    YearBuilt     1stFlrSF     2ndFlrSF     FullBath  \\\n",
      "count    1460.000000  1460.000000  1460.000000  1460.000000  1460.000000   \n",
      "mean    10516.828082  1971.267808  1162.626712   346.992466     1.565068   \n",
      "std      9981.264932    30.202904   386.587738   436.528436     0.550916   \n",
      "min      1300.000000  1872.000000   334.000000     0.000000     0.000000   \n",
      "25%      7553.500000  1954.000000   882.000000     0.000000     1.000000   \n",
      "50%      9478.500000  1973.000000  1087.000000     0.000000     2.000000   \n",
      "75%     11601.500000  2000.000000  1391.250000   728.000000     2.000000   \n",
      "max    215245.000000  2010.000000  4692.000000  2065.000000     3.000000   \n",
      "\n",
      "       BedroomAbvGr  TotRmsAbvGrd  \n",
      "count   1460.000000   1460.000000  \n",
      "mean       2.866438      6.517808  \n",
      "std        0.815778      1.625393  \n",
      "min        0.000000      2.000000  \n",
      "25%        2.000000      5.000000  \n",
      "50%        3.000000      6.000000  \n",
      "75%        3.000000      7.000000  \n",
      "max        8.000000     14.000000  \n",
      "   LotArea  YearBuilt  1stFlrSF  2ndFlrSF  FullBath  BedroomAbvGr  \\\n",
      "0     8450       2003       856       854         2             3   \n",
      "1     9600       1976      1262         0         2             3   \n",
      "2    11250       2001       920       866         2             3   \n",
      "3     9550       1915       961       756         1             3   \n",
      "4    14260       2000      1145      1053         2             4   \n",
      "\n",
      "   TotRmsAbvGrd  \n",
      "0             8  \n",
      "1             6  \n",
      "2             6  \n",
      "3             7  \n",
      "4             9  \n"
     ]
    }
   ],
   "source": [
    "# Review data\n",
    "# print description or statistics from X\n",
    "print(X.describe())\n",
    "\n",
    "# print the top few lines\n",
    "print(X.head())"
   ]
  },
  {
   "cell_type": "markdown",
   "id": "b5c67a4d",
   "metadata": {
    "papermill": {
     "duration": 0.004828,
     "end_time": "2024-12-07T10:17:38.426633",
     "exception": false,
     "start_time": "2024-12-07T10:17:38.421805",
     "status": "completed"
    },
    "tags": []
   },
   "source": [
    "## Step 3: Specify and Fit Model\n",
    "Create a `DecisionTreeRegressor` and save it iowa_model. Ensure you've done the relevant import from sklearn to run this command.\n",
    "\n",
    "Then fit the model you just created using the data in `X` and `y` that you saved above."
   ]
  },
  {
   "cell_type": "code",
   "execution_count": 8,
   "id": "2a1837bb",
   "metadata": {
    "execution": {
     "iopub.execute_input": "2024-12-07T10:17:38.438445Z",
     "iopub.status.busy": "2024-12-07T10:17:38.438074Z",
     "iopub.status.idle": "2024-12-07T10:17:38.458012Z",
     "shell.execute_reply": "2024-12-07T10:17:38.456969Z"
    },
    "papermill": {
     "duration": 0.028292,
     "end_time": "2024-12-07T10:17:38.460062",
     "exception": false,
     "start_time": "2024-12-07T10:17:38.431770",
     "status": "completed"
    },
    "tags": []
   },
   "outputs": [
    {
     "data": {
      "application/javascript": [
       "parent.postMessage({\"jupyterEvent\": \"custom.exercise_interaction\", \"data\": {\"outcomeType\": 1, \"valueTowardsCompletion\": 0.25, \"interactionType\": 1, \"questionType\": 2, \"questionId\": \"3_CreateModel\", \"learnToolsVersion\": \"0.3.4\", \"failureMessage\": \"\", \"exceptionClass\": \"\", \"trace\": \"\"}}, \"*\")"
      ],
      "text/plain": [
       "<IPython.core.display.Javascript object>"
      ]
     },
     "metadata": {},
     "output_type": "display_data"
    },
    {
     "data": {
      "text/markdown": [
       "<span style=\"color:#33cc33\">Correct</span>"
      ],
      "text/plain": [
       "Correct"
      ]
     },
     "metadata": {},
     "output_type": "display_data"
    }
   ],
   "source": [
    "from sklearn.tree import DecisionTreeRegressor\n",
    "#specify the model. \n",
    "#For model reproducibility, set a numeric value for random_state when specifying the model\n",
    "iowa_model = DecisionTreeRegressor(random_state=1)\n",
    "\n",
    "# Fit the model\n",
    "iowa_model.fit(X,y)\n",
    "\n",
    "# Check your answer\n",
    "step_3.check()"
   ]
  },
  {
   "cell_type": "code",
   "execution_count": 9,
   "id": "195ec489",
   "metadata": {
    "execution": {
     "iopub.execute_input": "2024-12-07T10:17:38.472782Z",
     "iopub.status.busy": "2024-12-07T10:17:38.471895Z",
     "iopub.status.idle": "2024-12-07T10:17:38.476441Z",
     "shell.execute_reply": "2024-12-07T10:17:38.475252Z"
    },
    "papermill": {
     "duration": 0.012974,
     "end_time": "2024-12-07T10:17:38.478461",
     "exception": false,
     "start_time": "2024-12-07T10:17:38.465487",
     "status": "completed"
    },
    "tags": []
   },
   "outputs": [],
   "source": [
    "# step_3.hint()\n",
    "# step_3.solution()"
   ]
  },
  {
   "cell_type": "markdown",
   "id": "8e3d6eb9",
   "metadata": {
    "papermill": {
     "duration": 0.005021,
     "end_time": "2024-12-07T10:17:38.489015",
     "exception": false,
     "start_time": "2024-12-07T10:17:38.483994",
     "status": "completed"
    },
    "tags": []
   },
   "source": [
    "## Step 4: Make Predictions\n",
    "Make predictions with the model's `predict` command using `X` as the data. Save the results to a variable called `predictions`."
   ]
  },
  {
   "cell_type": "code",
   "execution_count": 10,
   "id": "946f9c08",
   "metadata": {
    "execution": {
     "iopub.execute_input": "2024-12-07T10:17:38.501475Z",
     "iopub.status.busy": "2024-12-07T10:17:38.501056Z",
     "iopub.status.idle": "2024-12-07T10:17:38.515342Z",
     "shell.execute_reply": "2024-12-07T10:17:38.514023Z"
    },
    "papermill": {
     "duration": 0.022916,
     "end_time": "2024-12-07T10:17:38.517380",
     "exception": false,
     "start_time": "2024-12-07T10:17:38.494464",
     "status": "completed"
    },
    "tags": []
   },
   "outputs": [
    {
     "name": "stdout",
     "output_type": "stream",
     "text": [
      "[208500. 181500. 223500. ... 266500. 142125. 147500.]\n"
     ]
    },
    {
     "data": {
      "application/javascript": [
       "parent.postMessage({\"jupyterEvent\": \"custom.exercise_interaction\", \"data\": {\"outcomeType\": 1, \"valueTowardsCompletion\": 0.25, \"interactionType\": 1, \"questionType\": 2, \"questionId\": \"4_MakePredictions\", \"learnToolsVersion\": \"0.3.4\", \"failureMessage\": \"\", \"exceptionClass\": \"\", \"trace\": \"\"}}, \"*\")"
      ],
      "text/plain": [
       "<IPython.core.display.Javascript object>"
      ]
     },
     "metadata": {},
     "output_type": "display_data"
    },
    {
     "data": {
      "text/markdown": [
       "<span style=\"color:#33cc33\">Correct</span>"
      ],
      "text/plain": [
       "Correct"
      ]
     },
     "metadata": {},
     "output_type": "display_data"
    }
   ],
   "source": [
    "predictions = iowa_model.predict(X)\n",
    "print(predictions)\n",
    "\n",
    "# Check your answer\n",
    "step_4.check()"
   ]
  },
  {
   "cell_type": "code",
   "execution_count": 11,
   "id": "e9d9e6db",
   "metadata": {
    "execution": {
     "iopub.execute_input": "2024-12-07T10:17:38.530823Z",
     "iopub.status.busy": "2024-12-07T10:17:38.529918Z",
     "iopub.status.idle": "2024-12-07T10:17:38.534872Z",
     "shell.execute_reply": "2024-12-07T10:17:38.533641Z"
    },
    "papermill": {
     "duration": 0.013862,
     "end_time": "2024-12-07T10:17:38.536988",
     "exception": false,
     "start_time": "2024-12-07T10:17:38.523126",
     "status": "completed"
    },
    "tags": []
   },
   "outputs": [],
   "source": [
    "# step_4.hint()\n",
    "# step_4.solution()"
   ]
  },
  {
   "cell_type": "markdown",
   "id": "85fd6149",
   "metadata": {
    "papermill": {
     "duration": 0.005351,
     "end_time": "2024-12-07T10:17:38.547984",
     "exception": false,
     "start_time": "2024-12-07T10:17:38.542633",
     "status": "completed"
    },
    "tags": []
   },
   "source": [
    "## Think About Your Results\n",
    "\n",
    "Use the `head` method to compare the top few predictions to the actual home values (in `y`) for those same homes. Anything surprising?\n"
   ]
  },
  {
   "cell_type": "code",
   "execution_count": 12,
   "id": "54466307",
   "metadata": {
    "execution": {
     "iopub.execute_input": "2024-12-07T10:17:38.560556Z",
     "iopub.status.busy": "2024-12-07T10:17:38.560120Z",
     "iopub.status.idle": "2024-12-07T10:17:38.565712Z",
     "shell.execute_reply": "2024-12-07T10:17:38.564599Z"
    },
    "papermill": {
     "duration": 0.014504,
     "end_time": "2024-12-07T10:17:38.568042",
     "exception": false,
     "start_time": "2024-12-07T10:17:38.553538",
     "status": "completed"
    },
    "tags": []
   },
   "outputs": [
    {
     "name": "stdout",
     "output_type": "stream",
     "text": [
      "<class 'pandas.core.series.Series'>\n",
      "<class 'numpy.ndarray'>\n"
     ]
    }
   ],
   "source": [
    "print(type(y))\n",
    "print(type(predictions))"
   ]
  },
  {
   "cell_type": "code",
   "execution_count": 13,
   "id": "27991500",
   "metadata": {
    "execution": {
     "iopub.execute_input": "2024-12-07T10:17:38.581097Z",
     "iopub.status.busy": "2024-12-07T10:17:38.580760Z",
     "iopub.status.idle": "2024-12-07T10:17:38.587132Z",
     "shell.execute_reply": "2024-12-07T10:17:38.586051Z"
    },
    "papermill": {
     "duration": 0.015355,
     "end_time": "2024-12-07T10:17:38.589290",
     "exception": false,
     "start_time": "2024-12-07T10:17:38.573935",
     "status": "completed"
    },
    "tags": []
   },
   "outputs": [
    {
     "name": "stdout",
     "output_type": "stream",
     "text": [
      "0    208500\n",
      "1    181500\n",
      "2    223500\n",
      "3    140000\n",
      "4    250000\n",
      "Name: SalePrice, dtype: int64\n",
      "[208500. 181500. 223500. 140000. 250000.]\n"
     ]
    }
   ],
   "source": [
    "# You can write code in this cell\n",
    "print(y.head())\n",
    "print(predictions[:5])\n",
    "\n",
    "#Hence, initial predictions are exactly same with the actual price"
   ]
  },
  {
   "cell_type": "markdown",
   "id": "135f30fd",
   "metadata": {
    "papermill": {
     "duration": 0.005369,
     "end_time": "2024-12-07T10:17:38.600306",
     "exception": false,
     "start_time": "2024-12-07T10:17:38.594937",
     "status": "completed"
    },
    "tags": []
   },
   "source": [
    "It's natural to ask how accurate the model's predictions will be and how you can improve that. That will be you're next step.\n",
    "\n",
    "# Keep Going\n",
    "\n",
    "You are ready for **[Model Validation](https://www.kaggle.com/dansbecker/model-validation).**\n"
   ]
  },
  {
   "cell_type": "markdown",
   "id": "fd972345",
   "metadata": {
    "papermill": {
     "duration": 0.005433,
     "end_time": "2024-12-07T10:17:38.611448",
     "exception": false,
     "start_time": "2024-12-07T10:17:38.606015",
     "status": "completed"
    },
    "tags": []
   },
   "source": [
    "---\n",
    "\n",
    "\n",
    "\n",
    "\n",
    "*Have questions or comments? Visit the [course discussion forum](https://www.kaggle.com/learn/intro-to-machine-learning/discussion) to chat with other learners.*"
   ]
  }
 ],
 "metadata": {
  "kaggle": {
   "accelerator": "none",
   "dataSources": [
    {
     "databundleVersionId": 111096,
     "sourceId": 10211,
     "sourceType": "competition"
    },
    {
     "datasetId": 11167,
     "sourceId": 15520,
     "sourceType": "datasetVersion"
    },
    {
     "datasetId": 2709,
     "sourceId": 38454,
     "sourceType": "datasetVersion"
    }
   ],
   "isGpuEnabled": false,
   "isInternetEnabled": false,
   "language": "python",
   "sourceType": "notebook"
  },
  "kernelspec": {
   "display_name": "Python 3",
   "language": "python",
   "name": "python3"
  },
  "language_info": {
   "codemirror_mode": {
    "name": "ipython",
    "version": 3
   },
   "file_extension": ".py",
   "mimetype": "text/x-python",
   "name": "python",
   "nbconvert_exporter": "python",
   "pygments_lexer": "ipython3",
   "version": "3.10.14"
  },
  "papermill": {
   "default_parameters": {},
   "duration": 6.495571,
   "end_time": "2024-12-07T10:17:39.238865",
   "environment_variables": {},
   "exception": null,
   "input_path": "__notebook__.ipynb",
   "output_path": "__notebook__.ipynb",
   "parameters": {},
   "start_time": "2024-12-07T10:17:32.743294",
   "version": "2.6.0"
  }
 },
 "nbformat": 4,
 "nbformat_minor": 5
}
