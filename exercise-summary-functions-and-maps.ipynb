{
 "cells": [
  {
   "cell_type": "markdown",
   "id": "08e7a1ec",
   "metadata": {
    "papermill": {
     "duration": 0.006716,
     "end_time": "2024-12-04T16:37:10.443167",
     "exception": false,
     "start_time": "2024-12-04T16:37:10.436451",
     "status": "completed"
    },
    "tags": []
   },
   "source": [
    "**This notebook is an exercise in the [Pandas](https://www.kaggle.com/learn/pandas) course.  You can reference the tutorial at [this link](https://www.kaggle.com/residentmario/summary-functions-and-maps).**\n",
    "\n",
    "---\n"
   ]
  },
  {
   "cell_type": "markdown",
   "id": "24d93acc",
   "metadata": {
    "papermill": {
     "duration": 0.005342,
     "end_time": "2024-12-04T16:37:10.454425",
     "exception": false,
     "start_time": "2024-12-04T16:37:10.449083",
     "status": "completed"
    },
    "tags": []
   },
   "source": [
    "# Introduction\n",
    "\n",
    "Now you are ready to get a deeper understanding of your data.\n",
    "\n",
    "Run the following cell to load your data and some utility functions (including code to check your answers)."
   ]
  },
  {
   "cell_type": "code",
   "execution_count": 1,
   "id": "a86ae014",
   "metadata": {
    "execution": {
     "iopub.execute_input": "2024-12-04T16:37:10.467836Z",
     "iopub.status.busy": "2024-12-04T16:37:10.467337Z",
     "iopub.status.idle": "2024-12-04T16:37:18.281659Z",
     "shell.execute_reply": "2024-12-04T16:37:18.280019Z"
    },
    "papermill": {
     "duration": 7.82435,
     "end_time": "2024-12-04T16:37:18.284399",
     "exception": false,
     "start_time": "2024-12-04T16:37:10.460049",
     "status": "completed"
    },
    "tags": []
   },
   "outputs": [
    {
     "name": "stdout",
     "output_type": "stream",
     "text": [
      "Setup complete.\n"
     ]
    },
    {
     "data": {
      "text/html": [
       "<div>\n",
       "<style scoped>\n",
       "    .dataframe tbody tr th:only-of-type {\n",
       "        vertical-align: middle;\n",
       "    }\n",
       "\n",
       "    .dataframe tbody tr th {\n",
       "        vertical-align: top;\n",
       "    }\n",
       "\n",
       "    .dataframe thead th {\n",
       "        text-align: right;\n",
       "    }\n",
       "</style>\n",
       "<table border=\"1\" class=\"dataframe\">\n",
       "  <thead>\n",
       "    <tr style=\"text-align: right;\">\n",
       "      <th></th>\n",
       "      <th>country</th>\n",
       "      <th>description</th>\n",
       "      <th>designation</th>\n",
       "      <th>points</th>\n",
       "      <th>price</th>\n",
       "      <th>province</th>\n",
       "      <th>region_1</th>\n",
       "      <th>region_2</th>\n",
       "      <th>taster_name</th>\n",
       "      <th>taster_twitter_handle</th>\n",
       "      <th>title</th>\n",
       "      <th>variety</th>\n",
       "      <th>winery</th>\n",
       "    </tr>\n",
       "  </thead>\n",
       "  <tbody>\n",
       "    <tr>\n",
       "      <th>0</th>\n",
       "      <td>Italy</td>\n",
       "      <td>Aromas include tropical fruit, broom, brimston...</td>\n",
       "      <td>Vulkà Bianco</td>\n",
       "      <td>87</td>\n",
       "      <td>NaN</td>\n",
       "      <td>Sicily &amp; Sardinia</td>\n",
       "      <td>Etna</td>\n",
       "      <td>NaN</td>\n",
       "      <td>Kerin O’Keefe</td>\n",
       "      <td>@kerinokeefe</td>\n",
       "      <td>Nicosia 2013 Vulkà Bianco  (Etna)</td>\n",
       "      <td>White Blend</td>\n",
       "      <td>Nicosia</td>\n",
       "    </tr>\n",
       "    <tr>\n",
       "      <th>1</th>\n",
       "      <td>Portugal</td>\n",
       "      <td>This is ripe and fruity, a wine that is smooth...</td>\n",
       "      <td>Avidagos</td>\n",
       "      <td>87</td>\n",
       "      <td>15.0</td>\n",
       "      <td>Douro</td>\n",
       "      <td>NaN</td>\n",
       "      <td>NaN</td>\n",
       "      <td>Roger Voss</td>\n",
       "      <td>@vossroger</td>\n",
       "      <td>Quinta dos Avidagos 2011 Avidagos Red (Douro)</td>\n",
       "      <td>Portuguese Red</td>\n",
       "      <td>Quinta dos Avidagos</td>\n",
       "    </tr>\n",
       "    <tr>\n",
       "      <th>2</th>\n",
       "      <td>US</td>\n",
       "      <td>Tart and snappy, the flavors of lime flesh and...</td>\n",
       "      <td>NaN</td>\n",
       "      <td>87</td>\n",
       "      <td>14.0</td>\n",
       "      <td>Oregon</td>\n",
       "      <td>Willamette Valley</td>\n",
       "      <td>Willamette Valley</td>\n",
       "      <td>Paul Gregutt</td>\n",
       "      <td>@paulgwine</td>\n",
       "      <td>Rainstorm 2013 Pinot Gris (Willamette Valley)</td>\n",
       "      <td>Pinot Gris</td>\n",
       "      <td>Rainstorm</td>\n",
       "    </tr>\n",
       "    <tr>\n",
       "      <th>3</th>\n",
       "      <td>US</td>\n",
       "      <td>Pineapple rind, lemon pith and orange blossom ...</td>\n",
       "      <td>Reserve Late Harvest</td>\n",
       "      <td>87</td>\n",
       "      <td>13.0</td>\n",
       "      <td>Michigan</td>\n",
       "      <td>Lake Michigan Shore</td>\n",
       "      <td>NaN</td>\n",
       "      <td>Alexander Peartree</td>\n",
       "      <td>NaN</td>\n",
       "      <td>St. Julian 2013 Reserve Late Harvest Riesling ...</td>\n",
       "      <td>Riesling</td>\n",
       "      <td>St. Julian</td>\n",
       "    </tr>\n",
       "    <tr>\n",
       "      <th>4</th>\n",
       "      <td>US</td>\n",
       "      <td>Much like the regular bottling from 2012, this...</td>\n",
       "      <td>Vintner's Reserve Wild Child Block</td>\n",
       "      <td>87</td>\n",
       "      <td>65.0</td>\n",
       "      <td>Oregon</td>\n",
       "      <td>Willamette Valley</td>\n",
       "      <td>Willamette Valley</td>\n",
       "      <td>Paul Gregutt</td>\n",
       "      <td>@paulgwine</td>\n",
       "      <td>Sweet Cheeks 2012 Vintner's Reserve Wild Child...</td>\n",
       "      <td>Pinot Noir</td>\n",
       "      <td>Sweet Cheeks</td>\n",
       "    </tr>\n",
       "  </tbody>\n",
       "</table>\n",
       "</div>"
      ],
      "text/plain": [
       "    country                                        description  \\\n",
       "0     Italy  Aromas include tropical fruit, broom, brimston...   \n",
       "1  Portugal  This is ripe and fruity, a wine that is smooth...   \n",
       "2        US  Tart and snappy, the flavors of lime flesh and...   \n",
       "3        US  Pineapple rind, lemon pith and orange blossom ...   \n",
       "4        US  Much like the regular bottling from 2012, this...   \n",
       "\n",
       "                          designation  points  price           province  \\\n",
       "0                        Vulkà Bianco      87    NaN  Sicily & Sardinia   \n",
       "1                            Avidagos      87   15.0              Douro   \n",
       "2                                 NaN      87   14.0             Oregon   \n",
       "3                Reserve Late Harvest      87   13.0           Michigan   \n",
       "4  Vintner's Reserve Wild Child Block      87   65.0             Oregon   \n",
       "\n",
       "              region_1           region_2         taster_name  \\\n",
       "0                 Etna                NaN       Kerin O’Keefe   \n",
       "1                  NaN                NaN          Roger Voss   \n",
       "2    Willamette Valley  Willamette Valley        Paul Gregutt   \n",
       "3  Lake Michigan Shore                NaN  Alexander Peartree   \n",
       "4    Willamette Valley  Willamette Valley        Paul Gregutt   \n",
       "\n",
       "  taster_twitter_handle                                              title  \\\n",
       "0          @kerinokeefe                  Nicosia 2013 Vulkà Bianco  (Etna)   \n",
       "1            @vossroger      Quinta dos Avidagos 2011 Avidagos Red (Douro)   \n",
       "2           @paulgwine       Rainstorm 2013 Pinot Gris (Willamette Valley)   \n",
       "3                   NaN  St. Julian 2013 Reserve Late Harvest Riesling ...   \n",
       "4           @paulgwine   Sweet Cheeks 2012 Vintner's Reserve Wild Child...   \n",
       "\n",
       "          variety               winery  \n",
       "0     White Blend              Nicosia  \n",
       "1  Portuguese Red  Quinta dos Avidagos  \n",
       "2      Pinot Gris            Rainstorm  \n",
       "3        Riesling           St. Julian  \n",
       "4      Pinot Noir         Sweet Cheeks  "
      ]
     },
     "execution_count": 1,
     "metadata": {},
     "output_type": "execute_result"
    }
   ],
   "source": [
    "import pandas as pd\n",
    "pd.set_option(\"display.max_rows\", 5)\n",
    "reviews = pd.read_csv(\"../input/wine-reviews/winemag-data-130k-v2.csv\", index_col=0)\n",
    "\n",
    "from learntools.core import binder; binder.bind(globals())\n",
    "from learntools.pandas.summary_functions_and_maps import *\n",
    "print(\"Setup complete.\")\n",
    "\n",
    "reviews.head()"
   ]
  },
  {
   "cell_type": "code",
   "execution_count": 2,
   "id": "3140b631",
   "metadata": {
    "execution": {
     "iopub.execute_input": "2024-12-04T16:37:18.301338Z",
     "iopub.status.busy": "2024-12-04T16:37:18.300799Z",
     "iopub.status.idle": "2024-12-04T16:37:18.309072Z",
     "shell.execute_reply": "2024-12-04T16:37:18.307703Z"
    },
    "papermill": {
     "duration": 0.019212,
     "end_time": "2024-12-04T16:37:18.311643",
     "exception": false,
     "start_time": "2024-12-04T16:37:18.292431",
     "status": "completed"
    },
    "tags": []
   },
   "outputs": [
    {
     "data": {
      "text/plain": [
       "(129971, 13)"
      ]
     },
     "execution_count": 2,
     "metadata": {},
     "output_type": "execute_result"
    }
   ],
   "source": [
    "reviews.shape"
   ]
  },
  {
   "cell_type": "markdown",
   "id": "235202e8",
   "metadata": {
    "papermill": {
     "duration": 0.005959,
     "end_time": "2024-12-04T16:37:18.324137",
     "exception": false,
     "start_time": "2024-12-04T16:37:18.318178",
     "status": "completed"
    },
    "tags": []
   },
   "source": [
    "# Exercises"
   ]
  },
  {
   "cell_type": "markdown",
   "id": "00224766",
   "metadata": {
    "papermill": {
     "duration": 0.00615,
     "end_time": "2024-12-04T16:37:18.336763",
     "exception": false,
     "start_time": "2024-12-04T16:37:18.330613",
     "status": "completed"
    },
    "tags": []
   },
   "source": [
    "## 1.\n",
    "\n",
    "What is the median of the `points` column in the `reviews` DataFrame?"
   ]
  },
  {
   "cell_type": "code",
   "execution_count": 3,
   "id": "74ff3da6",
   "metadata": {
    "execution": {
     "iopub.execute_input": "2024-12-04T16:37:18.351731Z",
     "iopub.status.busy": "2024-12-04T16:37:18.351177Z",
     "iopub.status.idle": "2024-12-04T16:37:18.366878Z",
     "shell.execute_reply": "2024-12-04T16:37:18.365704Z"
    },
    "papermill": {
     "duration": 0.026062,
     "end_time": "2024-12-04T16:37:18.369257",
     "exception": false,
     "start_time": "2024-12-04T16:37:18.343195",
     "status": "completed"
    },
    "tags": []
   },
   "outputs": [
    {
     "data": {
      "application/javascript": [
       "parent.postMessage({\"jupyterEvent\": \"custom.exercise_interaction\", \"data\": {\"outcomeType\": 1, \"valueTowardsCompletion\": 0.14285714285714285, \"interactionType\": 1, \"questionType\": 1, \"questionId\": \"1_MedianPoints\", \"learnToolsVersion\": \"0.3.4\", \"failureMessage\": \"\", \"exceptionClass\": \"\", \"trace\": \"\"}}, \"*\")"
      ],
      "text/plain": [
       "<IPython.core.display.Javascript object>"
      ]
     },
     "metadata": {},
     "output_type": "display_data"
    },
    {
     "data": {
      "text/markdown": [
       "<span style=\"color:#33cc33\">Correct</span>"
      ],
      "text/plain": [
       "Correct"
      ]
     },
     "metadata": {},
     "output_type": "display_data"
    },
    {
     "data": {
      "text/plain": [
       "88.0"
      ]
     },
     "execution_count": 3,
     "metadata": {},
     "output_type": "execute_result"
    }
   ],
   "source": [
    "median_points = reviews.points.median()\n",
    "\n",
    "# Check your answer\n",
    "q1.check()\n",
    "median_points"
   ]
  },
  {
   "cell_type": "code",
   "execution_count": 4,
   "id": "cfcbf95d",
   "metadata": {
    "execution": {
     "iopub.execute_input": "2024-12-04T16:37:18.384869Z",
     "iopub.status.busy": "2024-12-04T16:37:18.384350Z",
     "iopub.status.idle": "2024-12-04T16:37:18.389702Z",
     "shell.execute_reply": "2024-12-04T16:37:18.388476Z"
    },
    "papermill": {
     "duration": 0.016298,
     "end_time": "2024-12-04T16:37:18.392269",
     "exception": false,
     "start_time": "2024-12-04T16:37:18.375971",
     "status": "completed"
    },
    "tags": []
   },
   "outputs": [],
   "source": [
    "# q1.hint()\n",
    "#q1.solution()"
   ]
  },
  {
   "cell_type": "markdown",
   "id": "f99bbb65",
   "metadata": {
    "papermill": {
     "duration": 0.007385,
     "end_time": "2024-12-04T16:37:18.406549",
     "exception": false,
     "start_time": "2024-12-04T16:37:18.399164",
     "status": "completed"
    },
    "tags": []
   },
   "source": [
    "## 2. \n",
    "What countries are represented in the dataset? (Your answer should not include any duplicates.)"
   ]
  },
  {
   "cell_type": "code",
   "execution_count": 5,
   "id": "03fa2c46",
   "metadata": {
    "execution": {
     "iopub.execute_input": "2024-12-04T16:37:18.422337Z",
     "iopub.status.busy": "2024-12-04T16:37:18.421762Z",
     "iopub.status.idle": "2024-12-04T16:37:18.441489Z",
     "shell.execute_reply": "2024-12-04T16:37:18.440318Z"
    },
    "papermill": {
     "duration": 0.030918,
     "end_time": "2024-12-04T16:37:18.444293",
     "exception": false,
     "start_time": "2024-12-04T16:37:18.413375",
     "status": "completed"
    },
    "tags": []
   },
   "outputs": [
    {
     "data": {
      "application/javascript": [
       "parent.postMessage({\"jupyterEvent\": \"custom.exercise_interaction\", \"data\": {\"outcomeType\": 1, \"valueTowardsCompletion\": 0.14285714285714285, \"interactionType\": 1, \"questionType\": 2, \"questionId\": \"2_UniqueCountries\", \"learnToolsVersion\": \"0.3.4\", \"failureMessage\": \"\", \"exceptionClass\": \"\", \"trace\": \"\"}}, \"*\")"
      ],
      "text/plain": [
       "<IPython.core.display.Javascript object>"
      ]
     },
     "metadata": {},
     "output_type": "display_data"
    },
    {
     "data": {
      "text/markdown": [
       "<span style=\"color:#33cc33\">Correct</span>"
      ],
      "text/plain": [
       "Correct"
      ]
     },
     "metadata": {},
     "output_type": "display_data"
    },
    {
     "data": {
      "text/plain": [
       "array(['Italy', 'Portugal', 'US', 'Spain', 'France', 'Germany',\n",
       "       'Argentina', 'Chile', 'Australia', 'Austria', 'South Africa',\n",
       "       'New Zealand', 'Israel', 'Hungary', 'Greece', 'Romania', 'Mexico',\n",
       "       'Canada', nan, 'Turkey', 'Czech Republic', 'Slovenia',\n",
       "       'Luxembourg', 'Croatia', 'Georgia', 'Uruguay', 'England',\n",
       "       'Lebanon', 'Serbia', 'Brazil', 'Moldova', 'Morocco', 'Peru',\n",
       "       'India', 'Bulgaria', 'Cyprus', 'Armenia', 'Switzerland',\n",
       "       'Bosnia and Herzegovina', 'Ukraine', 'Slovakia', 'Macedonia',\n",
       "       'China', 'Egypt'], dtype=object)"
      ]
     },
     "execution_count": 5,
     "metadata": {},
     "output_type": "execute_result"
    }
   ],
   "source": [
    "countries = reviews.country.unique()\n",
    "\n",
    "# Check your answer\n",
    "q2.check()\n",
    "countries\n"
   ]
  },
  {
   "cell_type": "code",
   "execution_count": 6,
   "id": "014244fa",
   "metadata": {
    "execution": {
     "iopub.execute_input": "2024-12-04T16:37:18.461099Z",
     "iopub.status.busy": "2024-12-04T16:37:18.460596Z",
     "iopub.status.idle": "2024-12-04T16:37:18.466121Z",
     "shell.execute_reply": "2024-12-04T16:37:18.464873Z"
    },
    "papermill": {
     "duration": 0.017176,
     "end_time": "2024-12-04T16:37:18.468916",
     "exception": false,
     "start_time": "2024-12-04T16:37:18.451740",
     "status": "completed"
    },
    "tags": []
   },
   "outputs": [],
   "source": [
    "#q2.hint()\n",
    "#q2.solution()"
   ]
  },
  {
   "cell_type": "markdown",
   "id": "e043ee5c",
   "metadata": {
    "papermill": {
     "duration": 0.00673,
     "end_time": "2024-12-04T16:37:18.482655",
     "exception": false,
     "start_time": "2024-12-04T16:37:18.475925",
     "status": "completed"
    },
    "tags": []
   },
   "source": [
    "## 3.\n",
    "How often does each country appear in the dataset? Create a Series `reviews_per_country` mapping countries to the count of reviews of wines from that country."
   ]
  },
  {
   "cell_type": "code",
   "execution_count": 7,
   "id": "03507dc7",
   "metadata": {
    "execution": {
     "iopub.execute_input": "2024-12-04T16:37:18.499037Z",
     "iopub.status.busy": "2024-12-04T16:37:18.498483Z",
     "iopub.status.idle": "2024-12-04T16:37:18.526179Z",
     "shell.execute_reply": "2024-12-04T16:37:18.525049Z"
    },
    "papermill": {
     "duration": 0.039202,
     "end_time": "2024-12-04T16:37:18.528756",
     "exception": false,
     "start_time": "2024-12-04T16:37:18.489554",
     "status": "completed"
    },
    "tags": []
   },
   "outputs": [
    {
     "data": {
      "application/javascript": [
       "parent.postMessage({\"jupyterEvent\": \"custom.exercise_interaction\", \"data\": {\"outcomeType\": 1, \"valueTowardsCompletion\": 0.14285714285714285, \"interactionType\": 1, \"questionType\": 1, \"questionId\": \"3_ReviewsPerCountry\", \"learnToolsVersion\": \"0.3.4\", \"failureMessage\": \"\", \"exceptionClass\": \"\", \"trace\": \"\"}}, \"*\")"
      ],
      "text/plain": [
       "<IPython.core.display.Javascript object>"
      ]
     },
     "metadata": {},
     "output_type": "display_data"
    },
    {
     "data": {
      "text/markdown": [
       "<span style=\"color:#33cc33\">Correct</span>"
      ],
      "text/plain": [
       "Correct"
      ]
     },
     "metadata": {},
     "output_type": "display_data"
    },
    {
     "name": "stdout",
     "output_type": "stream",
     "text": [
      "(43,)\n"
     ]
    },
    {
     "data": {
      "text/plain": [
       "country\n",
       "US        54504\n",
       "France    22093\n",
       "          ...  \n",
       "China         1\n",
       "Egypt         1\n",
       "Name: count, Length: 43, dtype: int64"
      ]
     },
     "execution_count": 7,
     "metadata": {},
     "output_type": "execute_result"
    }
   ],
   "source": [
    "reviews_per_country = reviews.country.value_counts()\n",
    "\n",
    "# Check your answer\n",
    "q3.check()\n",
    "print(reviews_per_country.shape)  #so there are total 43 countries\n",
    "reviews_per_country"
   ]
  },
  {
   "cell_type": "code",
   "execution_count": 8,
   "id": "72333841",
   "metadata": {
    "execution": {
     "iopub.execute_input": "2024-12-04T16:37:18.546065Z",
     "iopub.status.busy": "2024-12-04T16:37:18.545549Z",
     "iopub.status.idle": "2024-12-04T16:37:18.551922Z",
     "shell.execute_reply": "2024-12-04T16:37:18.549983Z"
    },
    "papermill": {
     "duration": 0.018325,
     "end_time": "2024-12-04T16:37:18.554964",
     "exception": false,
     "start_time": "2024-12-04T16:37:18.536639",
     "status": "completed"
    },
    "tags": []
   },
   "outputs": [],
   "source": [
    "#q3.hint()\n",
    "#q3.solution()"
   ]
  },
  {
   "cell_type": "markdown",
   "id": "be8a2260",
   "metadata": {
    "papermill": {
     "duration": 0.007126,
     "end_time": "2024-12-04T16:37:18.569770",
     "exception": false,
     "start_time": "2024-12-04T16:37:18.562644",
     "status": "completed"
    },
    "tags": []
   },
   "source": [
    "## 4.\n",
    "Create variable `centered_price` containing a version of the `price` column with the mean price subtracted.\n",
    "\n",
    "(Note: this 'centering' transformation is a common preprocessing step before applying various machine learning algorithms.) "
   ]
  },
  {
   "cell_type": "code",
   "execution_count": 9,
   "id": "29c5c34e",
   "metadata": {
    "execution": {
     "iopub.execute_input": "2024-12-04T16:37:18.586770Z",
     "iopub.status.busy": "2024-12-04T16:37:18.586267Z",
     "iopub.status.idle": "2024-12-04T16:37:18.661040Z",
     "shell.execute_reply": "2024-12-04T16:37:18.659643Z"
    },
    "papermill": {
     "duration": 0.086796,
     "end_time": "2024-12-04T16:37:18.663838",
     "exception": false,
     "start_time": "2024-12-04T16:37:18.577042",
     "status": "completed"
    },
    "tags": []
   },
   "outputs": [
    {
     "data": {
      "application/javascript": [
       "parent.postMessage({\"jupyterEvent\": \"custom.exercise_interaction\", \"data\": {\"outcomeType\": 1, \"valueTowardsCompletion\": 0.14285714285714285, \"interactionType\": 1, \"questionType\": 1, \"questionId\": \"4_CenteredPrice\", \"learnToolsVersion\": \"0.3.4\", \"failureMessage\": \"\", \"exceptionClass\": \"\", \"trace\": \"\"}}, \"*\")"
      ],
      "text/plain": [
       "<IPython.core.display.Javascript object>"
      ]
     },
     "metadata": {},
     "output_type": "display_data"
    },
    {
     "data": {
      "text/markdown": [
       "<span style=\"color:#33cc33\">Correct</span>"
      ],
      "text/plain": [
       "Correct"
      ]
     },
     "metadata": {},
     "output_type": "display_data"
    },
    {
     "data": {
      "text/plain": [
       "0               NaN\n",
       "1        -20.363389\n",
       "            ...    \n",
       "129969    -3.363389\n",
       "129970   -14.363389\n",
       "Name: price, Length: 129971, dtype: float64"
      ]
     },
     "execution_count": 9,
     "metadata": {},
     "output_type": "execute_result"
    }
   ],
   "source": [
    "mean_price = reviews.price.mean()\n",
    "centered_price = reviews.price.map(lambda p: p - mean_price)\n",
    "\n",
    "# Check your answer\n",
    "q4.check()\n",
    "centered_price"
   ]
  },
  {
   "cell_type": "code",
   "execution_count": 10,
   "id": "b7e87f07",
   "metadata": {
    "execution": {
     "iopub.execute_input": "2024-12-04T16:37:18.682419Z",
     "iopub.status.busy": "2024-12-04T16:37:18.681882Z",
     "iopub.status.idle": "2024-12-04T16:37:18.687719Z",
     "shell.execute_reply": "2024-12-04T16:37:18.686261Z"
    },
    "papermill": {
     "duration": 0.018721,
     "end_time": "2024-12-04T16:37:18.690654",
     "exception": false,
     "start_time": "2024-12-04T16:37:18.671933",
     "status": "completed"
    },
    "tags": []
   },
   "outputs": [],
   "source": [
    "#q4.hint()\n",
    "#q4.solution()"
   ]
  },
  {
   "cell_type": "markdown",
   "id": "af055c09",
   "metadata": {
    "papermill": {
     "duration": 0.008148,
     "end_time": "2024-12-04T16:37:18.707439",
     "exception": false,
     "start_time": "2024-12-04T16:37:18.699291",
     "status": "completed"
    },
    "tags": []
   },
   "source": [
    "## 5.\n",
    "I'm an economical wine buyer. Which wine is the \"best bargain\"? Create a variable `bargain_wine` with the title of the wine with the highest points-to-price ratio in the dataset."
   ]
  },
  {
   "cell_type": "code",
   "execution_count": 11,
   "id": "81aee0e6",
   "metadata": {
    "execution": {
     "iopub.execute_input": "2024-12-04T16:37:18.725771Z",
     "iopub.status.busy": "2024-12-04T16:37:18.725250Z",
     "iopub.status.idle": "2024-12-04T16:37:18.742511Z",
     "shell.execute_reply": "2024-12-04T16:37:18.741157Z"
    },
    "papermill": {
     "duration": 0.029425,
     "end_time": "2024-12-04T16:37:18.745344",
     "exception": false,
     "start_time": "2024-12-04T16:37:18.715919",
     "status": "completed"
    },
    "tags": []
   },
   "outputs": [
    {
     "data": {
      "application/javascript": [
       "parent.postMessage({\"jupyterEvent\": \"custom.exercise_interaction\", \"data\": {\"outcomeType\": 1, \"valueTowardsCompletion\": 0.14285714285714285, \"interactionType\": 1, \"questionType\": 2, \"questionId\": \"5_BargainWine\", \"learnToolsVersion\": \"0.3.4\", \"failureMessage\": \"\", \"exceptionClass\": \"\", \"trace\": \"\"}}, \"*\")"
      ],
      "text/plain": [
       "<IPython.core.display.Javascript object>"
      ]
     },
     "metadata": {},
     "output_type": "display_data"
    },
    {
     "data": {
      "text/markdown": [
       "<span style=\"color:#33cc33\">Correct</span>"
      ],
      "text/plain": [
       "Correct"
      ]
     },
     "metadata": {},
     "output_type": "display_data"
    }
   ],
   "source": [
    "bargain_idx = (reviews.points / reviews.price).idxmax()\n",
    "#the name of index = (all the points in column / all the price in column).find the index which has max value()\n",
    "# bargain_idx = 64590\n",
    "bargain_wine = reviews.loc[bargain_idx, 'title']\n",
    "#bargain_wine = 'Bandit NV Merlot (California)'    from the title column\n",
    "# Check your answer\n",
    "q5.check()\n"
   ]
  },
  {
   "cell_type": "code",
   "execution_count": 12,
   "id": "46deb0cc",
   "metadata": {
    "execution": {
     "iopub.execute_input": "2024-12-04T16:37:18.764108Z",
     "iopub.status.busy": "2024-12-04T16:37:18.763620Z",
     "iopub.status.idle": "2024-12-04T16:37:18.769440Z",
     "shell.execute_reply": "2024-12-04T16:37:18.767874Z"
    },
    "papermill": {
     "duration": 0.018812,
     "end_time": "2024-12-04T16:37:18.772264",
     "exception": false,
     "start_time": "2024-12-04T16:37:18.753452",
     "status": "completed"
    },
    "tags": []
   },
   "outputs": [],
   "source": [
    "# q5.hint()\n",
    "# q5.solution()"
   ]
  },
  {
   "cell_type": "markdown",
   "id": "ae07734f",
   "metadata": {
    "papermill": {
     "duration": 0.007428,
     "end_time": "2024-12-04T16:37:18.787669",
     "exception": false,
     "start_time": "2024-12-04T16:37:18.780241",
     "status": "completed"
    },
    "tags": []
   },
   "source": [
    "## 6.\n",
    "There are only so many words you can use when describing a bottle of wine. Is a wine more likely to be \"tropical\" or \"fruity\"? Create a Series `descriptor_counts` counting how many times each of these two words appears in the `description` column in the dataset. (For simplicity, let's ignore the capitalized versions of these words.)"
   ]
  },
  {
   "cell_type": "code",
   "execution_count": 13,
   "id": "3a4688f5",
   "metadata": {
    "execution": {
     "iopub.execute_input": "2024-12-04T16:37:18.805742Z",
     "iopub.status.busy": "2024-12-04T16:37:18.805246Z",
     "iopub.status.idle": "2024-12-04T16:37:19.036570Z",
     "shell.execute_reply": "2024-12-04T16:37:19.034937Z"
    },
    "papermill": {
     "duration": 0.243567,
     "end_time": "2024-12-04T16:37:19.039265",
     "exception": false,
     "start_time": "2024-12-04T16:37:18.795698",
     "status": "completed"
    },
    "tags": []
   },
   "outputs": [
    {
     "data": {
      "application/javascript": [
       "parent.postMessage({\"jupyterEvent\": \"custom.exercise_interaction\", \"data\": {\"outcomeType\": 1, \"valueTowardsCompletion\": 0.14285714285714285, \"interactionType\": 1, \"questionType\": 1, \"questionId\": \"6_DescriptorCounts\", \"learnToolsVersion\": \"0.3.4\", \"failureMessage\": \"\", \"exceptionClass\": \"\", \"trace\": \"\"}}, \"*\")"
      ],
      "text/plain": [
       "<IPython.core.display.Javascript object>"
      ]
     },
     "metadata": {},
     "output_type": "display_data"
    },
    {
     "data": {
      "text/markdown": [
       "<span style=\"color:#33cc33\">Correct</span>"
      ],
      "text/plain": [
       "Correct"
      ]
     },
     "metadata": {},
     "output_type": "display_data"
    }
   ],
   "source": [
    "count_tropical= reviews.description.str.contains(\"tropical\").sum()\n",
    "#from the description column find string that matches or contains tropical and then add them all\n",
    "#this value will be a number/integer stored in variable\n",
    "count_fruity=reviews.description.str.contains(\"fruity\").sum()\n",
    "descriptor_counts = pd.Series([count_tropical,count_fruity],index=[\"tropical\",\"fruity\"])\n",
    "#descriptor_counts supposed to be series\n",
    "\n",
    "\n",
    "\n",
    "# below method is by using map.\n",
    "# n_trop = reviews.description.map(lambda desc: \"tropical\" in desc).sum()\n",
    "# n_fruity = reviews.description.map(lambda desc: \"fruity\" in desc).sum()\n",
    "# descriptor_counts = pd.Series([n_trop, n_fruity], index=['tropical', 'fruity'])\n",
    "\n",
    "\n",
    "\n",
    "# Check your answer\n",
    "q6.check()\n"
   ]
  },
  {
   "cell_type": "code",
   "execution_count": 14,
   "id": "b4734055",
   "metadata": {
    "execution": {
     "iopub.execute_input": "2024-12-04T16:37:19.057794Z",
     "iopub.status.busy": "2024-12-04T16:37:19.057284Z",
     "iopub.status.idle": "2024-12-04T16:37:19.062990Z",
     "shell.execute_reply": "2024-12-04T16:37:19.061771Z"
    },
    "papermill": {
     "duration": 0.018061,
     "end_time": "2024-12-04T16:37:19.065555",
     "exception": false,
     "start_time": "2024-12-04T16:37:19.047494",
     "status": "completed"
    },
    "tags": []
   },
   "outputs": [],
   "source": [
    "# q6.hint()\n",
    "# q6.solution()"
   ]
  },
  {
   "cell_type": "markdown",
   "id": "01196cc8",
   "metadata": {
    "papermill": {
     "duration": 0.007683,
     "end_time": "2024-12-04T16:37:19.081475",
     "exception": false,
     "start_time": "2024-12-04T16:37:19.073792",
     "status": "completed"
    },
    "tags": []
   },
   "source": [
    "## 7.\n",
    "We'd like to host these wine reviews on our website, but a rating system ranging from 80 to 100 points is too hard to understand - we'd like to translate them into simple star ratings. A score of 95 or higher counts as 3 stars, a score of at least 85 but less than 95 is 2 stars. Any other score is 1 star.\n",
    "\n",
    "Also, the Canadian Vintners Association bought a lot of ads on the site, so any wines from Canada should automatically get 3 stars, regardless of points.\n",
    "\n",
    "Create a series `star_ratings` with the number of stars corresponding to each review in the dataset."
   ]
  },
  {
   "cell_type": "code",
   "execution_count": 15,
   "id": "1cfee485",
   "metadata": {
    "execution": {
     "iopub.execute_input": "2024-12-04T16:37:19.101345Z",
     "iopub.status.busy": "2024-12-04T16:37:19.100838Z",
     "iopub.status.idle": "2024-12-04T16:37:21.813654Z",
     "shell.execute_reply": "2024-12-04T16:37:21.812331Z"
    },
    "papermill": {
     "duration": 2.72646,
     "end_time": "2024-12-04T16:37:21.816142",
     "exception": false,
     "start_time": "2024-12-04T16:37:19.089682",
     "status": "completed"
    },
    "tags": []
   },
   "outputs": [
    {
     "data": {
      "application/javascript": [
       "parent.postMessage({\"jupyterEvent\": \"custom.exercise_interaction\", \"data\": {\"outcomeType\": 1, \"valueTowardsCompletion\": 0.14285714285714285, \"interactionType\": 1, \"questionType\": 1, \"questionId\": \"7_StarRatings\", \"learnToolsVersion\": \"0.3.4\", \"failureMessage\": \"\", \"exceptionClass\": \"\", \"trace\": \"\"}}, \"*\")"
      ],
      "text/plain": [
       "<IPython.core.display.Javascript object>"
      ]
     },
     "metadata": {},
     "output_type": "display_data"
    },
    {
     "data": {
      "text/markdown": [
       "<span style=\"color:#33cc33\">Correct</span>"
      ],
      "text/plain": [
       "Correct"
      ]
     },
     "metadata": {},
     "output_type": "display_data"
    }
   ],
   "source": [
    "def star_rating(row):\n",
    "    if row.country == 'Canada':\n",
    "        return 3\n",
    "    elif row.points >= 95:\n",
    "        return 3\n",
    "    elif row.points >= 85:\n",
    "        return 2\n",
    "    else:\n",
    "        return 1\n",
    "    \n",
    "    \n",
    "\n",
    "\n",
    "\n",
    "star_ratings = reviews.apply(star_rating, axis=\"columns\")\n",
    "\n",
    "# Check your answer\n",
    "q7.check()"
   ]
  },
  {
   "cell_type": "code",
   "execution_count": 16,
   "id": "6fce6a28",
   "metadata": {
    "execution": {
     "iopub.execute_input": "2024-12-04T16:37:21.834725Z",
     "iopub.status.busy": "2024-12-04T16:37:21.834209Z",
     "iopub.status.idle": "2024-12-04T16:37:21.839926Z",
     "shell.execute_reply": "2024-12-04T16:37:21.838706Z"
    },
    "papermill": {
     "duration": 0.018034,
     "end_time": "2024-12-04T16:37:21.842433",
     "exception": false,
     "start_time": "2024-12-04T16:37:21.824399",
     "status": "completed"
    },
    "tags": []
   },
   "outputs": [],
   "source": [
    "# q7.hint()\n",
    "# q7.solution()"
   ]
  },
  {
   "cell_type": "markdown",
   "id": "d043429b",
   "metadata": {
    "papermill": {
     "duration": 0.007667,
     "end_time": "2024-12-04T16:37:21.858433",
     "exception": false,
     "start_time": "2024-12-04T16:37:21.850766",
     "status": "completed"
    },
    "tags": []
   },
   "source": [
    "# Keep going\n",
    "Continue to **[grouping and sorting](https://www.kaggle.com/residentmario/grouping-and-sorting)**."
   ]
  },
  {
   "cell_type": "markdown",
   "id": "2ea3aeab",
   "metadata": {
    "papermill": {
     "duration": 0.008133,
     "end_time": "2024-12-04T16:37:21.876536",
     "exception": false,
     "start_time": "2024-12-04T16:37:21.868403",
     "status": "completed"
    },
    "tags": []
   },
   "source": [
    "---\n",
    "\n",
    "\n",
    "\n",
    "\n",
    "*Have questions or comments? Visit the [course discussion forum](https://www.kaggle.com/learn/pandas/discussion) to chat with other learners.*"
   ]
  }
 ],
 "metadata": {
  "kaggle": {
   "accelerator": "none",
   "dataSources": [
    {
     "datasetId": 655,
     "sourceId": 1252,
     "sourceType": "datasetVersion"
    },
    {
     "datasetId": 2321,
     "sourceId": 3919,
     "sourceType": "datasetVersion"
    },
    {
     "datasetId": 2894,
     "sourceId": 4877,
     "sourceType": "datasetVersion"
    },
    {
     "datasetId": 3491,
     "sourceId": 5624,
     "sourceType": "datasetVersion"
    },
    {
     "datasetId": 1442,
     "sourceId": 8172,
     "sourceType": "datasetVersion"
    },
    {
     "datasetId": 9366,
     "sourceId": 13206,
     "sourceType": "datasetVersion"
    },
    {
     "datasetId": 179555,
     "sourceId": 403916,
     "sourceType": "datasetVersion"
    },
    {
     "datasetId": 4549,
     "sourceId": 466349,
     "sourceType": "datasetVersion"
    },
    {
     "datasetId": 2478,
     "sourceId": 1151655,
     "sourceType": "datasetVersion"
    },
    {
     "datasetId": 10128,
     "sourceId": 5438389,
     "sourceType": "datasetVersion"
    }
   ],
   "isGpuEnabled": false,
   "isInternetEnabled": false,
   "language": "python",
   "sourceType": "notebook"
  },
  "kernelspec": {
   "display_name": "Python 3",
   "language": "python",
   "name": "python3"
  },
  "language_info": {
   "codemirror_mode": {
    "name": "ipython",
    "version": 3
   },
   "file_extension": ".py",
   "mimetype": "text/x-python",
   "name": "python",
   "nbconvert_exporter": "python",
   "pygments_lexer": "ipython3",
   "version": "3.10.14"
  },
  "papermill": {
   "default_parameters": {},
   "duration": 15.604595,
   "end_time": "2024-12-04T16:37:22.710429",
   "environment_variables": {},
   "exception": null,
   "input_path": "__notebook__.ipynb",
   "output_path": "__notebook__.ipynb",
   "parameters": {},
   "start_time": "2024-12-04T16:37:07.105834",
   "version": "2.6.0"
  }
 },
 "nbformat": 4,
 "nbformat_minor": 5
}
